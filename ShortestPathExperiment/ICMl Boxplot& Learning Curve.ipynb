{
 "cells": [
  {
   "cell_type": "code",
   "execution_count": 249,
   "metadata": {},
   "outputs": [],
   "source": [
    "import numpy as np\n",
    "import pandas as pd\n",
    "import seaborn as sns\n",
    "import matplotlib.pyplot as plt"
   ]
  },
  {
   "cell_type": "markdown",
   "metadata": {},
   "source": [
    "### Regret vs MSE"
   ]
  },
  {
   "cell_type": "code",
   "execution_count": 250,
   "metadata": {},
   "outputs": [],
   "source": [
    "twostage = pd.read_csv(\"Rslt/Twostage_rslt.csv\")\n",
    "spo = pd.read_csv(\"Rslt/SPO_rslt.csv\")\n",
    "bb = pd.read_csv(\"Rslt/Blackbox_rslt.csv\")\n",
    "listwise = pd.read_csv(\"Rslt/Listwise_rslt.csv\")\n",
    "pairwise = pd.read_csv(\"Rslt/Pairwise_rslt.csv\")\n",
    "pointwise = pd.read_csv(\"Rslt/Pointwise_rslt.csv\")\n",
    "pairwise_diff = pd.read_csv(\"Rslt/Pairwisediff_rslt.csv\")\n",
    "nce = pd.read_csv(\"Rslt/NCE_rslt.csv\")\n",
    "mapp = pd.read_csv(\"Rslt/MAP_rslt.csv\")"
   ]
  },
  {
   "cell_type": "code",
   "execution_count": 251,
   "metadata": {},
   "outputs": [],
   "source": [
    "N, noise, deg = 1000,0.5,1"
   ]
  },
  {
   "cell_type": "code",
   "execution_count": 252,
   "metadata": {},
   "outputs": [],
   "source": [
    "lr, l1_weight = 0.5, 1e-5\n",
    "twostage_selected = twostage[(twostage['N']==N)&\n",
    "                                           (twostage['deg']==deg) & \n",
    "                                           (twostage['noise']==noise)]\n",
    "twostage_selected = twostage_selected[(twostage_selected['l1_weight']==l1_weight)&\n",
    "                                                   (twostage_selected['lr']==lr)]"
   ]
  },
  {
   "cell_type": "code",
   "execution_count": 253,
   "metadata": {},
   "outputs": [],
   "source": [
    "lr, l1_weight = 0.1, 1e-5\n",
    "spo_selected = spo[(spo['N']==N)&(spo['deg']==deg) & \n",
    "                                           (spo['noise']==noise)]\n",
    "spo_selected = spo_selected[(spo_selected['l1_weight']==l1_weight)&\n",
    "                                         (spo_selected['lr']==lr)]"
   ]
  },
  {
   "cell_type": "code",
   "execution_count": 254,
   "metadata": {},
   "outputs": [],
   "source": [
    "lr,mu, l1_weight = 0.5,1., 1e-5\n",
    "bb_selected = bb[(bb['N']==N)&(bb['deg']==deg) & \n",
    "                                           (bb['noise']==noise)]\n",
    "bb_selected = bb_selected[(bb_selected['l1_weight']==l1_weight)&\n",
    "                                         (bb_selected['lr']==lr)&(bb_selected['mu']==mu)]\n"
   ]
  },
  {
   "cell_type": "code",
   "execution_count": 255,
   "metadata": {},
   "outputs": [],
   "source": [
    "lr, margin, growth,l1_weight = 0.1,1.,0.1,1e-5\n",
    "pairwise_selected = pairwise[(pairwise['N']==N)&\n",
    "                                           (pairwise['deg']==deg) & \n",
    "                                           (pairwise['noise']==noise)]\n",
    "pairwise_selected = pairwise_selected[(pairwise_selected['l1_weight']== l1_weight)&\n",
    "                                       (pairwise_selected['margin']== margin)& (pairwise_selected['lr']== lr)&\n",
    "                                                   (pairwise_selected['growth']== growth)]\n"
   ]
  },
  {
   "cell_type": "code",
   "execution_count": 256,
   "metadata": {},
   "outputs": [],
   "source": [
    "lr,temperature,  growth,l1_weight = 0.1,1, 0.1,1e-5\n",
    "listwise_selected = listwise[(listwise['N']==N)&\n",
    "                                           (listwise['deg']==deg) & \n",
    "                                           (listwise['noise']==noise)]\n",
    "listwise_selected = listwise_selected[(listwise_selected['l1_weight']== l1_weight)&\n",
    "                        (listwise_selected['lr']== lr)&(listwise_selected['temperature']== temperature)&\n",
    "                                                   (listwise_selected['growth']== growth)]\n"
   ]
  },
  {
   "cell_type": "code",
   "execution_count": 257,
   "metadata": {},
   "outputs": [],
   "source": [
    "lr, growth,l1_weight = 0.8, 0.1,1e-5\n",
    "pointwise_selected = pointwise[(pointwise['N']==N)&\n",
    "                                           (pointwise['deg']==deg) & \n",
    "                                           (pointwise['noise']==noise)]\n",
    "pointwise_selected = pointwise_selected[(pointwise_selected['l1_weight']== l1_weight)&\n",
    "                        (pointwise_selected['lr']== lr)&(pointwise_selected['growth']== growth)]\n"
   ]
  },
  {
   "cell_type": "code",
   "execution_count": 258,
   "metadata": {},
   "outputs": [],
   "source": [
    "lr, growth,l1_weight = 0.1, 0.1,1e-5\n",
    "pairwise_diff_selected = pairwise_diff[(pairwise_diff['N']==N)&\n",
    "                                           (pairwise_diff['deg']==deg) & \n",
    "                                           (pairwise_diff['noise']==noise)]\n",
    "pairwise_diff_selected = pairwise_diff_selected[(pairwise_diff_selected['l1_weight']== l1_weight)&\n",
    "                        (pairwise_diff_selected['lr']== lr)&(pairwise_diff_selected['growth']== growth)]"
   ]
  },
  {
   "cell_type": "code",
   "execution_count": 259,
   "metadata": {},
   "outputs": [],
   "source": [
    "lr, growth,l1_weight = 0.5, 0.1,1e-5\n",
    "nce_selected = nce[(nce['N']==N)&(nce['deg']==deg) & \n",
    "                                           (nce['noise']==noise)]\n",
    "nce_selected = nce_selected[(nce_selected['l1_weight']== l1_weight)&\n",
    "                        (nce_selected['lr']== lr)&(nce_selected['growth']== growth)]\n"
   ]
  },
  {
   "cell_type": "code",
   "execution_count": 260,
   "metadata": {},
   "outputs": [],
   "source": [
    "lr, growth,l1_weight = 0.05, 0.1,1e-5\n",
    "mapp_selected = mapp[(mapp['N']==N)&(mapp['deg']==deg) & \n",
    "                                           (mapp['noise']==noise)]\n",
    "mapp_selected = mapp_selected[(mapp_selected['l1_weight']== l1_weight)&\n",
    "                        (mapp_selected['lr']== lr)&(mapp_selected['growth']== growth)]\n"
   ]
  },
  {
   "cell_type": "code",
   "execution_count": 124,
   "metadata": {},
   "outputs": [
    {
     "data": {
      "image/png": "[encoded data removed]",
      "text/plain": [
       "<Figure size 432x432 with 1 Axes>"
      ]
     },
     "metadata": {
      "needs_background": "light"
     },
     "output_type": "display_data"
    }
   ],
   "source": [
    "deg_df = pd.concat([ pointwise_selected, pairwise_selected,pairwise_diff_selected,\n",
    "                       listwise_selected , nce_selected,\n",
    "                        mapp_selected,spo_selected, bb_selected ,\n",
    "                        twostage_selected])\n",
    "deg_df =deg_df.groupby('model').agg({'val_mse':'mean','val_regret':'mean'}).reset_index(drop=False)\n",
    "fig, ax = plt.subplots(figsize=(6,6))\n",
    "sns.scatterplot(data= deg_df, x=\"val_mse\", y=\"val_regret\", hue=\"model\", style=\"model\",\n",
    "               markers=['P','^','<','>','s','X','o','*','H'],s=100)\n",
    "\n",
    "plt.legend(prop={'size': 16},loc=1, bbox_to_anchor=(0., 0., 0.9, 1.))\n",
    "# plt.ylim(0.85, 1.)\n",
    "# ax.set_xticks(np.arange(0,5, 1))\n",
    "# ax.spines['right'].set_visible(False)\n",
    "# ax.spines['top'].set_visible(False)\n",
    "plt.xlabel(\"MSE\",fontsize=20)\n",
    "plt.ylabel(\"Percentage Regret\",fontsize=20)\n",
    "vals = ax.get_yticks()\n",
    "ax.set_yticklabels(['{:,.2%}'.format(x) for x in vals])\n",
    "plt.savefig(\"figures/data_N_{}_noise_{}_deg_{}_regvsmse.png\".format(N,noise,deg),\n",
    "bbox_inches='tight', dpi = 200)\n",
    "\n",
    "plt.show()"
   ]
  },
  {
   "cell_type": "code",
   "execution_count": 125,
   "metadata": {},
   "outputs": [],
   "source": [
    "N, noise, deg = 1000,0.5,2"
   ]
  },
  {
   "cell_type": "code",
   "execution_count": 126,
   "metadata": {},
   "outputs": [],
   "source": [
    "lr, l1_weight = 0.5, 1e-5\n",
    "twostage_selected = twostage[(twostage['N']==N)&\n",
    "                                           (twostage['deg']==deg) & \n",
    "                                           (twostage['noise']==noise)]\n",
    "twostage_selected = twostage_selected[(twostage_selected['l1_weight']==l1_weight)&\n",
    "                                                   (twostage_selected['lr']==lr)]"
   ]
  },
  {
   "cell_type": "code",
   "execution_count": 127,
   "metadata": {},
   "outputs": [],
   "source": [
    "lr, l1_weight = 0.5, 1e-5\n",
    "spo_selected = spo[(spo['N']==N)&(spo['deg']==deg) & \n",
    "                                           (spo['noise']==noise)]\n",
    "spo_selected = spo_selected[(spo_selected['l1_weight']==l1_weight)&\n",
    "                                         (spo_selected['lr']==lr)]"
   ]
  },
  {
   "cell_type": "code",
   "execution_count": 128,
   "metadata": {},
   "outputs": [],
   "source": [
    "lr,mu, l1_weight = 0.5,1., 1e-5\n",
    "bb_selected = bb[(bb['N']==N)&(bb['deg']==deg) & \n",
    "                                           (bb['noise']==noise)]\n",
    "bb_selected = bb_selected[(bb_selected['l1_weight']==l1_weight)&\n",
    "                                         (bb_selected['lr']==lr)&(bb_selected['mu']==mu)]\n"
   ]
  },
  {
   "cell_type": "code",
   "execution_count": 129,
   "metadata": {},
   "outputs": [],
   "source": [
    "lr, margin, growth,l1_weight = 0.1,0.1,0.1,1e-5\n",
    "pairwise_selected = pairwise[(pairwise['N']==N)&\n",
    "                                           (pairwise['deg']==deg) & \n",
    "                                           (pairwise['noise']==noise)]\n",
    "pairwise_selected = pairwise_selected[(pairwise_selected['l1_weight']== l1_weight)&\n",
    "                                       (pairwise_selected['margin']== margin)& (pairwise_selected['lr']== lr)&\n",
    "                                                   (pairwise_selected['growth']== growth)]\n"
   ]
  },
  {
   "cell_type": "code",
   "execution_count": 130,
   "metadata": {},
   "outputs": [],
   "source": [
    "lr,temperature,  growth,l1_weight = 0.1,0.1, 0.1,1e-5\n",
    "listwise_selected = listwise[(listwise['N']==N)&\n",
    "                                           (listwise['deg']==deg) & \n",
    "                                           (listwise['noise']==noise)]\n",
    "listwise_selected = listwise_selected[(listwise_selected['l1_weight']== l1_weight)&\n",
    "                        (listwise_selected['lr']== lr)&(listwise_selected['temperature']== temperature)&\n",
    "                                                   (listwise_selected['growth']== growth)]\n"
   ]
  },
  {
   "cell_type": "code",
   "execution_count": 131,
   "metadata": {},
   "outputs": [],
   "source": [
    "lr, growth,l1_weight = 0.8, 0.1,1e-5\n",
    "pointwise_selected = pointwise[(pointwise['N']==N)&\n",
    "                                           (pointwise['deg']==deg) & \n",
    "                                           (pointwise['noise']==noise)]\n",
    "pointwise_selected = pointwise_selected[(pointwise_selected['l1_weight']== l1_weight)&\n",
    "                        (pointwise_selected['lr']== lr)&(pointwise_selected['growth']== growth)]\n"
   ]
  },
  {
   "cell_type": "code",
   "execution_count": 132,
   "metadata": {},
   "outputs": [],
   "source": [
    "lr, growth,l1_weight = 0.1, 0.1,1e-5\n",
    "pairwise_diff_selected = pairwise_diff[(pairwise_diff['N']==N)&\n",
    "                                           (pairwise_diff['deg']==deg) & \n",
    "                                           (pairwise_diff['noise']==noise)]\n",
    "pairwise_diff_selected = pairwise_diff_selected[(pairwise_diff_selected['l1_weight']== l1_weight)&\n",
    "                        (pairwise_diff_selected['lr']== lr)&(pairwise_diff_selected['growth']== growth)]"
   ]
  },
  {
   "cell_type": "code",
   "execution_count": 133,
   "metadata": {},
   "outputs": [],
   "source": [
    "lr, growth,l1_weight = 0.5, 0.1,1e-5\n",
    "nce_selected = nce[(nce['N']==N)&(nce['deg']==deg) & \n",
    "                                           (nce['noise']==noise)]\n",
    "nce_selected = nce_selected[(nce_selected['l1_weight']== l1_weight)&\n",
    "                        (nce_selected['lr']== lr)&(nce_selected['growth']== growth)]\n"
   ]
  },
  {
   "cell_type": "code",
   "execution_count": 134,
   "metadata": {},
   "outputs": [],
   "source": [
    "lr, growth,l1_weight = 0.05, 0.1,1e-5\n",
    "mapp_selected = mapp[(mapp['N']==N)&(mapp['deg']==deg) & \n",
    "                                           (mapp['noise']==noise)]\n",
    "mapp_selected = mapp_selected[(mapp_selected['l1_weight']== l1_weight)&\n",
    "                        (mapp_selected['lr']== lr)&(mapp_selected['growth']== growth)]"
   ]
  },
  {
   "cell_type": "code",
   "execution_count": 135,
   "metadata": {},
   "outputs": [
    {
     "data": {
      "image/png": "[encoded data removed]",
      "text/plain": [
       "<Figure size 432x432 with 1 Axes>"
      ]
     },
     "metadata": {
      "needs_background": "light"
     },
     "output_type": "display_data"
    }
   ],
   "source": [
    "deg_df = pd.concat([ pointwise_selected, pairwise_selected,pairwise_diff_selected,\n",
    "                       listwise_selected , nce_selected,\n",
    "                        mapp_selected,spo_selected, bb_selected ,\n",
    "                        twostage_selected])\n",
    "deg_df =deg_df.groupby('model').agg({'val_mse':'mean','val_regret':'mean'}).reset_index(drop=False)\n",
    "fig, ax = plt.subplots(figsize=(6,6))\n",
    "sns.scatterplot(data= deg_df, x=\"val_mse\", y=\"val_regret\", hue=\"model\", style=\"model\",\n",
    "               markers=['P','^','<','>','s','X','o','*','H'],s=100)\n",
    "\n",
    "plt.legend(prop={'size': 16},loc=1, bbox_to_anchor=(0., 0., 0.9, 1.))\n",
    "# plt.ylim(0.85, 1.)\n",
    "# ax.set_xticks(np.arange(0,5, 1))\n",
    "# ax.spines['right'].set_visible(False)\n",
    "# ax.spines['top'].set_visible(False)\n",
    "plt.xlabel(\"MSE\",fontsize=20)\n",
    "plt.ylabel(\"Percentage Regret\",fontsize=20)\n",
    "vals = ax.get_yticks()\n",
    "ax.set_yticklabels(['{:,.2%}'.format(x) for x in vals])\n",
    "plt.savefig(\"figures/data_N_{}_noise_{}_deg_{}_regvsmse.png\".format(N,noise,deg),\n",
    "bbox_inches='tight', dpi = 200)\n",
    "\n",
    "plt.show()"
   ]
  },
  {
   "cell_type": "code",
   "execution_count": 136,
   "metadata": {},
   "outputs": [],
   "source": [
    "N, noise, deg = 1000,0.5,4"
   ]
  },
  {
   "cell_type": "code",
   "execution_count": 137,
   "metadata": {},
   "outputs": [],
   "source": [
    "lr, l1_weight = 0.1, 1e-5\n",
    "twostage_selected = twostage[(twostage['N']==N)&\n",
    "                                           (twostage['deg']==deg) & \n",
    "                                           (twostage['noise']==noise)]\n",
    "twostage_selected = twostage_selected[(twostage_selected['l1_weight']==l1_weight)&\n",
    "                                                   (twostage_selected['lr']==lr)]"
   ]
  },
  {
   "cell_type": "code",
   "execution_count": 138,
   "metadata": {},
   "outputs": [],
   "source": [
    "lr, l1_weight = 0.5, 1e-5\n",
    "spo_selected = spo[(spo['N']==N)&(spo['deg']==deg) & \n",
    "                                           (spo['noise']==noise)]\n",
    "spo_selected = spo_selected[(spo_selected['l1_weight']==l1_weight)&\n",
    "                                         (spo_selected['lr']==lr)]"
   ]
  },
  {
   "cell_type": "code",
   "execution_count": 139,
   "metadata": {},
   "outputs": [],
   "source": [
    "lr,mu, l1_weight = 0.5,1., 1e-5\n",
    "bb_selected = bb[(bb['N']==N)&(bb['deg']==deg) & \n",
    "                                           (bb['noise']==noise)]\n",
    "bb_selected = bb_selected[(bb_selected['l1_weight']==l1_weight)&\n",
    "                                         (bb_selected['lr']==lr)&(bb_selected['mu']==mu)]\n"
   ]
  },
  {
   "cell_type": "code",
   "execution_count": 140,
   "metadata": {},
   "outputs": [],
   "source": [
    "lr, margin, growth,l1_weight = 0.1,0.1,0.1,1e-5\n",
    "pairwise_selected = pairwise[(pairwise['N']==N)&\n",
    "                                           (pairwise['deg']==deg) & \n",
    "                                           (pairwise['noise']==noise)]\n",
    "pairwise_selected = pairwise_selected[(pairwise_selected['l1_weight']== l1_weight)&\n",
    "                                       (pairwise_selected['margin']== margin)& (pairwise_selected['lr']== lr)&\n",
    "                                                   (pairwise_selected['growth']== growth)]\n"
   ]
  },
  {
   "cell_type": "code",
   "execution_count": 141,
   "metadata": {},
   "outputs": [],
   "source": [
    "lr,temperature,  growth,l1_weight = 0.1,0.05, 0.1,1e-5\n",
    "listwise_selected = listwise[(listwise['N']==N)&\n",
    "                                           (listwise['deg']==deg) & \n",
    "                                           (listwise['noise']==noise)]\n",
    "listwise_selected = listwise_selected[(listwise_selected['l1_weight']== l1_weight)&\n",
    "                        (listwise_selected['lr']== lr)&(listwise_selected['temperature']== temperature)&\n",
    "                                                   (listwise_selected['growth']== growth)]\n"
   ]
  },
  {
   "cell_type": "code",
   "execution_count": 142,
   "metadata": {},
   "outputs": [],
   "source": [
    "lr, growth,l1_weight = 0.8, 0.1,1e-5\n",
    "pointwise_selected = pointwise[(pointwise['N']==N)&\n",
    "                                           (pointwise['deg']==deg) & \n",
    "                                           (pointwise['noise']==noise)]\n",
    "pointwise_selected = pointwise_selected[(pointwise_selected['l1_weight']== l1_weight)&\n",
    "                        (pointwise_selected['lr']== lr)&(pointwise_selected['growth']== growth)]\n"
   ]
  },
  {
   "cell_type": "code",
   "execution_count": 143,
   "metadata": {},
   "outputs": [],
   "source": [
    "lr, growth,l1_weight = 0.1, 0.1,1e-5\n",
    "pairwise_diff_selected = pairwise_diff[(pairwise_diff['N']==N)&\n",
    "                                           (pairwise_diff['deg']==deg) & \n",
    "                                           (pairwise_diff['noise']==noise)]\n",
    "pairwise_diff_selected = pairwise_diff_selected[(pairwise_diff_selected['l1_weight']== l1_weight)&\n",
    "                        (pairwise_diff_selected['lr']== lr)&(pairwise_diff_selected['growth']== growth)]"
   ]
  },
  {
   "cell_type": "code",
   "execution_count": 144,
   "metadata": {},
   "outputs": [],
   "source": [
    "lr, growth,l1_weight = 0.5, 0.1,1e-5\n",
    "nce_selected = nce[(nce['N']==N)&(nce['deg']==deg) & \n",
    "                                           (nce['noise']==noise)]\n",
    "nce_selected = nce_selected[(nce_selected['l1_weight']== l1_weight)&\n",
    "                        (nce_selected['lr']== lr)&(nce_selected['growth']== growth)]\n"
   ]
  },
  {
   "cell_type": "code",
   "execution_count": 145,
   "metadata": {},
   "outputs": [],
   "source": [
    "lr, growth,l1_weight = 0.05, 0.1,1e-5\n",
    "mapp_selected = mapp[(mapp['N']==N)&(mapp['deg']==deg) & \n",
    "                                           (mapp['noise']==noise)]\n",
    "mapp_selected = mapp_selected[(mapp_selected['l1_weight']== l1_weight)&\n",
    "                        (mapp_selected['lr']== lr)&(mapp_selected['growth']== growth)]"
   ]
  },
  {
   "cell_type": "code",
   "execution_count": 146,
   "metadata": {},
   "outputs": [
    {
     "data": {
      "image/png": "[encoded data removed]",
      "text/plain": [
       "<Figure size 432x432 with 1 Axes>"
      ]
     },
     "metadata": {
      "needs_background": "light"
     },
     "output_type": "display_data"
    }
   ],
   "source": [
    "deg_df = pd.concat([ pointwise_selected, pairwise_selected,pairwise_diff_selected,\n",
    "                       listwise_selected , nce_selected,\n",
    "                        mapp_selected,spo_selected, bb_selected ,\n",
    "                        twostage_selected])\n",
    "deg_df =deg_df.groupby('model').agg({'val_mse':'mean','val_regret':'mean'}).reset_index(drop=False)\n",
    "fig, ax = plt.subplots(figsize=(6,6))\n",
    "sns.scatterplot(data= deg_df, x=\"val_mse\", y=\"val_regret\", hue=\"model\", style=\"model\",\n",
    "               markers=['P','^','<','>','s','X','o','*','H'],s=100)\n",
    "\n",
    "plt.legend(prop={'size': 16},loc=1, bbox_to_anchor=(0., 0., 0.9, 1.))\n",
    "# plt.ylim(0.85, 1.)\n",
    "# ax.set_xticks(np.arange(0,5, 1))\n",
    "# ax.spines['right'].set_visible(False)\n",
    "# ax.spines['top'].set_visible(False)\n",
    "plt.xlabel(\"MSE\",fontsize=20)\n",
    "plt.ylabel(\"Percentage Regret\",fontsize=20)\n",
    "vals = ax.get_yticks()\n",
    "ax.set_yticklabels(['{:,.2%}'.format(x) for x in vals])\n",
    "plt.savefig(\"figures/data_N_{}_noise_{}_deg_{}_regvsmse.png\".format(N,noise,deg),\n",
    "bbox_inches='tight', dpi = 200)\n",
    "\n",
    "plt.show()"
   ]
  },
  {
   "cell_type": "code",
   "execution_count": 147,
   "metadata": {},
   "outputs": [],
   "source": [
    "N, noise, deg = 1000,0.5,6"
   ]
  },
  {
   "cell_type": "code",
   "execution_count": 148,
   "metadata": {},
   "outputs": [],
   "source": [
    "lr, l1_weight = 0.5, 1e-5\n",
    "twostage_selected = twostage[(twostage['N']==N)&\n",
    "                                           (twostage['deg']==deg) & \n",
    "                                           (twostage['noise']==noise)]\n",
    "twostage_selected = twostage_selected[(twostage_selected['l1_weight']==l1_weight)&\n",
    "                                                   (twostage_selected['lr']==lr)]"
   ]
  },
  {
   "cell_type": "code",
   "execution_count": 149,
   "metadata": {},
   "outputs": [],
   "source": [
    "lr, l1_weight = 0.5, 1e-5\n",
    "spo_selected = spo[(spo['N']==N)&(spo['deg']==deg) & \n",
    "                                           (spo['noise']==noise)]\n",
    "spo_selected = spo_selected[(spo_selected['l1_weight']==l1_weight)&\n",
    "                                         (spo_selected['lr']==lr)]"
   ]
  },
  {
   "cell_type": "code",
   "execution_count": 150,
   "metadata": {},
   "outputs": [],
   "source": [
    "lr,mu, l1_weight = 0.5,1., 1e-5\n",
    "bb_selected = bb[(bb['N']==N)&(bb['deg']==deg) & \n",
    "                                           (bb['noise']==noise)]\n",
    "bb_selected = bb_selected[(bb_selected['l1_weight']==l1_weight)&\n",
    "                                         (bb_selected['lr']==lr)&(bb_selected['mu']==mu)]\n"
   ]
  },
  {
   "cell_type": "code",
   "execution_count": 151,
   "metadata": {},
   "outputs": [],
   "source": [
    "lr, margin, growth,l1_weight = 0.1,0.1,0.1,1e-5\n",
    "pairwise_selected = pairwise[(pairwise['N']==N)&\n",
    "                                           (pairwise['deg']==deg) & \n",
    "                                           (pairwise['noise']==noise)]\n",
    "pairwise_selected = pairwise_selected[(pairwise_selected['l1_weight']== l1_weight)&\n",
    "                                       (pairwise_selected['margin']== margin)& (pairwise_selected['lr']== lr)&\n",
    "                                                   (pairwise_selected['growth']== growth)]\n"
   ]
  },
  {
   "cell_type": "code",
   "execution_count": 152,
   "metadata": {},
   "outputs": [],
   "source": [
    "lr,temperature,  growth,l1_weight = 0.1,0.05, 0.1,1e-5\n",
    "listwise_selected = listwise[(listwise['N']==N)&\n",
    "                                           (listwise['deg']==deg) & \n",
    "                                           (listwise['noise']==noise)]\n",
    "listwise_selected = listwise_selected[(listwise_selected['l1_weight']== l1_weight)&\n",
    "                        (listwise_selected['lr']== lr)&(listwise_selected['temperature']== temperature)&\n",
    "                                                   (listwise_selected['growth']== growth)]\n"
   ]
  },
  {
   "cell_type": "code",
   "execution_count": 153,
   "metadata": {},
   "outputs": [],
   "source": [
    "lr, growth,l1_weight = 0.8, 0.1,1e-5\n",
    "pointwise_selected = pointwise[(pointwise['N']==N)&\n",
    "                                           (pointwise['deg']==deg) & \n",
    "                                           (pointwise['noise']==noise)]\n",
    "pointwise_selected = pointwise_selected[(pointwise_selected['l1_weight']== l1_weight)&\n",
    "                        (pointwise_selected['lr']== lr)&(pointwise_selected['growth']== growth)]\n"
   ]
  },
  {
   "cell_type": "code",
   "execution_count": 154,
   "metadata": {},
   "outputs": [],
   "source": [
    "lr, growth,l1_weight = 0.5, 0.1,1e-5\n",
    "pairwise_diff_selected = pairwise_diff[(pairwise_diff['N']==N)&\n",
    "                                           (pairwise_diff['deg']==deg) & \n",
    "                                           (pairwise_diff['noise']==noise)]\n",
    "pairwise_diff_selected = pairwise_diff_selected[(pairwise_diff_selected['l1_weight']== l1_weight)&\n",
    "                        (pairwise_diff_selected['lr']== lr)&(pairwise_diff_selected['growth']== growth)]"
   ]
  },
  {
   "cell_type": "code",
   "execution_count": 155,
   "metadata": {},
   "outputs": [],
   "source": [
    "lr, growth,l1_weight = 0.5, 0.1,1e-5\n",
    "nce_selected = nce[(nce['N']==N)&(nce['deg']==deg) & \n",
    "                                           (nce['noise']==noise)]\n",
    "nce_selected = nce_selected[(nce_selected['l1_weight']== l1_weight)&\n",
    "                        (nce_selected['lr']== lr)&(nce_selected['growth']== growth)]\n"
   ]
  },
  {
   "cell_type": "code",
   "execution_count": 156,
   "metadata": {},
   "outputs": [],
   "source": [
    "lr, growth,l1_weight = 0.7, 0.1,1e-5\n",
    "mapp_selected = mapp[(mapp['N']==N)&(mapp['deg']==deg) & \n",
    "                                           (mapp['noise']==noise)]\n",
    "mapp_selected = mapp_selected[(mapp_selected['l1_weight']== l1_weight)&\n",
    "                        (mapp_selected['lr']== lr)&(mapp_selected['growth']== growth)]"
   ]
  },
  {
   "cell_type": "code",
   "execution_count": 157,
   "metadata": {},
   "outputs": [
    {
     "data": {
      "image/png": "[encoded data removed]",
      "text/plain": [
       "<Figure size 432x432 with 1 Axes>"
      ]
     },
     "metadata": {
      "needs_background": "light"
     },
     "output_type": "display_data"
    }
   ],
   "source": [
    "deg_df = pd.concat([ pointwise_selected, pairwise_selected,pairwise_diff_selected,\n",
    "                       listwise_selected , nce_selected,\n",
    "                        mapp_selected,spo_selected, bb_selected ,\n",
    "                        twostage_selected])\n",
    "deg_df =deg_df.groupby('model').agg({'val_mse':'mean','val_regret':'mean'}).reset_index(drop=False)\n",
    "fig, ax = plt.subplots(figsize=(6,6))\n",
    "sns.scatterplot(data= deg_df, x=\"val_mse\", y=\"val_regret\", hue=\"model\", style=\"model\",\n",
    "               markers=['P','^','<','>','s','X','o','*','H'],s=100)\n",
    "\n",
    "plt.legend(prop={'size': 16},loc=1, bbox_to_anchor=(0., 0., 0.9, 1.))\n",
    "# plt.ylim(0.85, 1.)\n",
    "# ax.set_xticks(np.arange(0,5, 1))\n",
    "# ax.spines['right'].set_visible(False)\n",
    "# ax.spines['top'].set_visible(False)\n",
    "plt.xlabel(\"MSE\",fontsize=20)\n",
    "plt.ylabel(\"Percentage Regret\",fontsize=20)\n",
    "vals = ax.get_yticks()\n",
    "ax.set_yticklabels(['{:,.2%}'.format(x) for x in vals])\n",
    "plt.savefig(\"figures/data_N_{}_noise_{}_deg_{}_regvsmse.png\".format(N,noise,deg),\n",
    "bbox_inches='tight', dpi = 200)\n",
    "\n",
    "plt.show()"
   ]
  },
  {
   "cell_type": "code",
   "execution_count": 158,
   "metadata": {},
   "outputs": [],
   "source": [
    "N, noise, deg = 1000,0.5,8"
   ]
  },
  {
   "cell_type": "code",
   "execution_count": 159,
   "metadata": {},
   "outputs": [],
   "source": [
    "lr, l1_weight = 0.5, 1e-5\n",
    "twostage_selected = twostage[(twostage['N']==N)&\n",
    "                                           (twostage['deg']==deg) & \n",
    "                                           (twostage['noise']==noise)]\n",
    "twostage_selected = twostage_selected[(twostage_selected['l1_weight']==l1_weight)&\n",
    "                                                   (twostage_selected['lr']==lr)]"
   ]
  },
  {
   "cell_type": "code",
   "execution_count": 160,
   "metadata": {},
   "outputs": [],
   "source": [
    "lr, l1_weight = 0.1, 1e-5\n",
    "spo_selected = spo[(spo['N']==N)&(spo['deg']==deg) & \n",
    "                                           (spo['noise']==noise)]\n",
    "spo_selected = spo_selected[(spo_selected['l1_weight']==l1_weight)&\n",
    "                                         (spo_selected['lr']==lr)]"
   ]
  },
  {
   "cell_type": "code",
   "execution_count": 161,
   "metadata": {},
   "outputs": [],
   "source": [
    "lr,mu, l1_weight = 0.5,1., 1e-5\n",
    "bb_selected = bb[(bb['N']==N)&(bb['deg']==deg) & \n",
    "                                           (bb['noise']==noise)]\n",
    "bb_selected = bb_selected[(bb_selected['l1_weight']==l1_weight)&\n",
    "                                         (bb_selected['lr']==lr)&(bb_selected['mu']==mu)]\n"
   ]
  },
  {
   "cell_type": "code",
   "execution_count": 162,
   "metadata": {},
   "outputs": [],
   "source": [
    "lr, margin, growth,l1_weight = 0.1,0.1,0.1,1e-5\n",
    "pairwise_selected = pairwise[(pairwise['N']==N)&\n",
    "                                           (pairwise['deg']==deg) & \n",
    "                                           (pairwise['noise']==noise)]\n",
    "pairwise_selected = pairwise_selected[(pairwise_selected['l1_weight']== l1_weight)&\n",
    "                                       (pairwise_selected['margin']== margin)& (pairwise_selected['lr']== lr)&\n",
    "                                                   (pairwise_selected['growth']== growth)]\n"
   ]
  },
  {
   "cell_type": "code",
   "execution_count": 163,
   "metadata": {},
   "outputs": [],
   "source": [
    "lr,temperature,  growth,l1_weight = 0.1,0.05, 0.1,1e-5\n",
    "listwise_selected = listwise[(listwise['N']==N)&\n",
    "                                           (listwise['deg']==deg) & \n",
    "                                           (listwise['noise']==noise)]\n",
    "listwise_selected = listwise_selected[(listwise_selected['l1_weight']== l1_weight)&\n",
    "                        (listwise_selected['lr']== lr)&(listwise_selected['temperature']== temperature)&\n",
    "                                                   (listwise_selected['growth']== growth)]\n"
   ]
  },
  {
   "cell_type": "code",
   "execution_count": 164,
   "metadata": {},
   "outputs": [],
   "source": [
    "lr, growth,l1_weight = 0.8, 0.1,1e-5\n",
    "pointwise_selected = pointwise[(pointwise['N']==N)&\n",
    "                                           (pointwise['deg']==deg) & \n",
    "                                           (pointwise['noise']==noise)]\n",
    "pointwise_selected = pointwise_selected[(pointwise_selected['l1_weight']== l1_weight)&\n",
    "                        (pointwise_selected['lr']== lr)&(pointwise_selected['growth']== growth)]\n"
   ]
  },
  {
   "cell_type": "code",
   "execution_count": 165,
   "metadata": {},
   "outputs": [],
   "source": [
    "lr, growth,l1_weight = 0.5, 0.1,1e-5\n",
    "pairwise_diff_selected = pairwise_diff[(pairwise_diff['N']==N)&\n",
    "                                           (pairwise_diff['deg']==deg) & \n",
    "                                           (pairwise_diff['noise']==noise)]\n",
    "pairwise_diff_selected = pairwise_diff_selected[(pairwise_diff_selected['l1_weight']== l1_weight)&\n",
    "                        (pairwise_diff_selected['lr']== lr)&(pairwise_diff_selected['growth']== growth)]"
   ]
  },
  {
   "cell_type": "code",
   "execution_count": 166,
   "metadata": {},
   "outputs": [],
   "source": [
    "lr, growth,l1_weight = 0.5, 0.1,1e-5\n",
    "nce_selected = nce[(nce['N']==N)&(nce['deg']==deg) & \n",
    "                                           (nce['noise']==noise)]\n",
    "nce_selected = nce_selected[(nce_selected['l1_weight']== l1_weight)&\n",
    "                        (nce_selected['lr']== lr)&(nce_selected['growth']== growth)]\n"
   ]
  },
  {
   "cell_type": "code",
   "execution_count": 167,
   "metadata": {},
   "outputs": [],
   "source": [
    "lr, growth,l1_weight = 0.7, 0.1,1e-5\n",
    "mapp_selected = mapp[(mapp['N']==N)&(mapp['deg']==deg) & \n",
    "                                           (mapp['noise']==noise)]\n",
    "mapp_selected = mapp_selected[(mapp_selected['l1_weight']== l1_weight)&\n",
    "                        (mapp_selected['lr']== lr)&(mapp_selected['growth']== growth)]"
   ]
  },
  {
   "cell_type": "code",
   "execution_count": 168,
   "metadata": {},
   "outputs": [
    {
     "data": {
      "image/png": "[encoded data removed]",
      "text/plain": [
       "<Figure size 432x432 with 1 Axes>"
      ]
     },
     "metadata": {
      "needs_background": "light"
     },
     "output_type": "display_data"
    }
   ],
   "source": [
    "deg_df = pd.concat([ pointwise_selected, pairwise_selected,pairwise_diff_selected,\n",
    "                       listwise_selected , nce_selected,\n",
    "                        mapp_selected,spo_selected, bb_selected ,\n",
    "                        twostage_selected])\n",
    "deg_df =deg_df.groupby('model').agg({'val_mse':'mean','val_regret':'mean'}).reset_index(drop=False)\n",
    "fig, ax = plt.subplots(figsize=(6,6))\n",
    "sns.scatterplot(data= deg_df, x=\"val_mse\", y=\"val_regret\", hue=\"model\", style=\"model\",\n",
    "               markers=['P','^','<','>','s','X','o','*','H'],s=100)\n",
    "\n",
    "plt.legend(prop={'size': 16},loc=1, bbox_to_anchor=(0., 0., 0.9, 1.))\n",
    "# plt.ylim(0.85, 1.)\n",
    "# ax.set_xticks(np.arange(0,5, 1))\n",
    "# ax.spines['right'].set_visible(False)\n",
    "# ax.spines['top'].set_visible(False)\n",
    "plt.xlabel(\"MSE\",fontsize=20)\n",
    "plt.ylabel(\"Percentage Regret\",fontsize=20)\n",
    "vals = ax.get_yticks()\n",
    "ax.set_yticklabels(['{:,.2%}'.format(x) for x in vals])\n",
    "plt.savefig(\"figures/data_N_{}_noise_{}_deg_{}_regvsmse.png\".format(N,noise,deg),\n",
    "bbox_inches='tight', dpi = 200)\n",
    "\n",
    "plt.show()"
   ]
  },
  {
   "cell_type": "markdown",
   "metadata": {},
   "source": [
    "### Boxplot"
   ]
  },
  {
   "cell_type": "code",
   "execution_count": 261,
   "metadata": {},
   "outputs": [],
   "source": [
    "N, noise, deg = 1000,0.5,1"
   ]
  },
  {
   "cell_type": "code",
   "execution_count": 262,
   "metadata": {},
   "outputs": [],
   "source": [
    "lr, l1_weight = 0.5, 1e-5\n",
    "twostage_regret = pd.read_csv(\"Rslt/Twostage_Regret.csv\")\n",
    "twostage_regret.drop_duplicates(inplace= True)\n",
    "twostage_regret = twostage_regret.groupby(['model','instance','lr', 'l1_weight', 'noise','deg','N']).mean().reset_index()\n",
    "twostage_regret_selected = twostage_regret[(twostage_regret['N']==N)&\n",
    "                                           (twostage_regret['deg']==deg) & \n",
    "                                           (twostage_regret['noise']==noise)]\n",
    "twostage_regret_selected = twostage_regret_selected[(twostage_regret_selected['l1_weight']==l1_weight)&\n",
    "                                                   (twostage_regret_selected['lr']==lr)]\n",
    "twostage_regret_selected = twostage_regret_selected [['model','instance','regret']]"
   ]
  },
  {
   "cell_type": "code",
   "execution_count": 263,
   "metadata": {},
   "outputs": [],
   "source": [
    "lr, l1_weight = 0.1, 1e-5\n",
    "spo_regret = pd.read_csv(\"Rslt/SPO_Regret.csv\")\n",
    "spo_regret.drop_duplicates(inplace= True)\n",
    "spo_regret = spo_regret.groupby(['model','instance','lr','l1_weight', 'noise','deg','N']).mean().reset_index()\n",
    "spo_regret_selected = spo_regret[(spo_regret['N']==N)&\n",
    "                                           (spo_regret['deg']==deg) & \n",
    "                                           (spo_regret['noise']==noise)]\n",
    "spo_regret_selected = spo_regret_selected[(spo_regret_selected['l1_weight']==l1_weight)&\n",
    "                                         (spo_regret_selected['lr']==lr)]\n",
    "spo_regret_selected = spo_regret_selected [['model','instance','regret']]"
   ]
  },
  {
   "cell_type": "code",
   "execution_count": 264,
   "metadata": {},
   "outputs": [],
   "source": [
    "lr,mu, l1_weight = 0.5,1., 1e-5\n",
    "bb_regret = pd.read_csv(\"Rslt/Blackbox_Regret.csv\")\n",
    "bb_regret.drop_duplicates(inplace= True)\n",
    "bb_regret = bb_regret.groupby(['model','instance','mu','lr','l1_weight', 'noise','deg','N']).mean().reset_index()\n",
    "bb_regret_selected = bb_regret[(bb_regret['N']==N)&\n",
    "                                           (bb_regret['deg']==deg) & \n",
    "                                           (bb_regret['noise']==noise)]\n",
    "bb_regret_selected = bb_regret_selected[(bb_regret_selected['l1_weight']==l1_weight)&\n",
    "                                         (bb_regret_selected['lr']==lr)&(bb_regret_selected['mu']==mu)]\n",
    "bb_regret_selected = bb_regret_selected [['model','instance','regret']]"
   ]
  },
  {
   "cell_type": "code",
   "execution_count": 265,
   "metadata": {},
   "outputs": [],
   "source": [
    "lr, margin, growth,l1_weight = 0.1,1.,0.1,1e-5\n",
    "pairwise_regret = pd.read_csv(\"Rslt/Pairwise_Regret.csv\")\n",
    "pairwise_regret.drop_duplicates(inplace= True)\n",
    "pairwise_regret = pairwise_regret.groupby(['model','instance','lr','l1_weight','margin', 'growth','noise','deg','N']).mean().reset_index()\n",
    "pairwise_regret_selected = pairwise_regret[(pairwise_regret['N']==N)&\n",
    "                                           (pairwise_regret['deg']==deg) & \n",
    "                                           (pairwise_regret['noise']==noise)]\n",
    "pairwise_regret_selected = pairwise_regret_selected[(pairwise_regret_selected['l1_weight']== l1_weight)&\n",
    "                                       (pairwise_regret_selected['margin']== margin)& (pairwise_regret_selected['lr']== lr)&\n",
    "                                                   (pairwise_regret_selected['growth']== growth)]\n",
    "pairwise_regret_selected = pairwise_regret_selected [['model','instance','regret']]"
   ]
  },
  {
   "cell_type": "code",
   "execution_count": 266,
   "metadata": {},
   "outputs": [],
   "source": [
    "lr,temperature,  growth,l1_weight = 0.1,1, 0.1,1e-5\n",
    "listwise_regret = pd.read_csv(\"Rslt/Listwise_Regret.csv\")\n",
    "listwise_regret.drop_duplicates(inplace= True)\n",
    "listwise_regret = listwise_regret.groupby(['model','instance','lr','l1_weight','temperature', 'growth','noise','deg','N']).mean().reset_index()\n",
    "listwise_regret_selected = listwise_regret[(listwise_regret['N']==N)&\n",
    "                                           (listwise_regret['deg']==deg) & \n",
    "                                           (listwise_regret['noise']==noise)]\n",
    "listwise_regret_selected = listwise_regret_selected[(listwise_regret_selected['l1_weight']== l1_weight)&\n",
    "                        (listwise_regret_selected['lr']== lr)&(listwise_regret_selected['temperature']== temperature)&\n",
    "                                                   (listwise_regret_selected['growth']== growth)]\n",
    "listwise_regret_selected = listwise_regret_selected [['model','instance','regret']]"
   ]
  },
  {
   "cell_type": "code",
   "execution_count": 267,
   "metadata": {},
   "outputs": [],
   "source": [
    "lr, growth,l1_weight = 0.8, 0.1,1e-5\n",
    "pointwise_regret = pd.read_csv(\"Rslt/Pointwise_Regret.csv\")\n",
    "pointwise_regret.drop_duplicates(inplace= True)\n",
    "pointwise_regret = pointwise_regret.groupby(['model','instance','lr','l1_weight', 'growth','noise','deg','N']).mean().reset_index()\n",
    "pointwise_regret_selected = pointwise_regret[(pointwise_regret['N']==N)&\n",
    "                                           (pointwise_regret['deg']==deg) & \n",
    "                                           (pointwise_regret['noise']==noise)]\n",
    "pointwise_regret_selected = pointwise_regret_selected[(pointwise_regret_selected['l1_weight']== l1_weight)&\n",
    "                        (pointwise_regret_selected['lr']== lr)&(pointwise_regret_selected['growth']== growth)]\n",
    "pointwise_regret_selected = pointwise_regret_selected [['model','instance','regret']]"
   ]
  },
  {
   "cell_type": "code",
   "execution_count": 268,
   "metadata": {},
   "outputs": [],
   "source": [
    "lr, growth,l1_weight = 0.1, 0.1,1e-5\n",
    "pairwise_diff_regret = pd.read_csv(\"Rslt/Pairwisediff_Regret.csv\")\n",
    "pairwise_diff_regret.drop_duplicates(inplace= True)\n",
    "pairwise_diff_regret = pairwise_diff_regret.groupby(['model','instance','lr','l1_weight', 'growth','noise','deg','N']).mean().reset_index()\n",
    "pairwise_diff_regret_selected = pairwise_diff_regret[(pairwise_diff_regret['N']==N)&\n",
    "                                           (pairwise_diff_regret['deg']==deg) & \n",
    "                                           (pairwise_diff_regret['noise']==noise)]\n",
    "pairwise_diff_regret_selected = pairwise_diff_regret_selected[(pairwise_diff_regret_selected['l1_weight']== l1_weight)&\n",
    "                        (pairwise_diff_regret_selected['lr']== lr)&(pairwise_diff_regret_selected['growth']== growth)]\n",
    "pairwise_diff_regret_selected = pairwise_diff_regret_selected [['model','instance','regret']]"
   ]
  },
  {
   "cell_type": "code",
   "execution_count": 269,
   "metadata": {},
   "outputs": [],
   "source": [
    "lr, growth,l1_weight = 0.5, 0.1,1e-5\n",
    "nce_regret = pd.read_csv(\"Rslt/NCE_Regret.csv\")\n",
    "nce_regret.model = \"NCE\"\n",
    "nce_regret.drop_duplicates(inplace= True)\n",
    "nce_regret = nce_regret.groupby(['model','instance','lr','l1_weight', 'growth','noise','deg','N']).mean().reset_index()\n",
    "nce_regret_selected = nce_regret[(nce_regret['N']==N)&\n",
    "                                           (nce_regret['deg']==deg) & \n",
    "                                           (nce_regret['noise']==noise)]\n",
    "nce_regret_selected = nce_regret_selected[(nce_regret_selected['l1_weight']== l1_weight)&\n",
    "                        (nce_regret_selected['lr']== lr)&(nce_regret_selected['growth']== growth)]\n",
    "nce_regret_selected = nce_regret_selected [['model','instance','regret']]"
   ]
  },
  {
   "cell_type": "code",
   "execution_count": 270,
   "metadata": {},
   "outputs": [],
   "source": [
    "lr, growth,l1_weight = 0.05, 0.1,1e-5\n",
    "mapp_regret = pd.read_csv(\"Rslt/MAP_Regret.csv\")\n",
    "mapp_regret.model = \"MAP\"\n",
    "mapp_regret.drop_duplicates(inplace= True)\n",
    "mapp_regret = mapp_regret.groupby(['model','instance','lr','l1_weight', 'growth','noise','deg','N']).mean().reset_index()\n",
    "mapp_regret_selected = mapp_regret[(mapp_regret['N']==N)&\n",
    "                                           (mapp_regret['deg']==deg) & \n",
    "                                           (mapp_regret['noise']==noise)]\n",
    "mapp_regret_selected = mapp_regret_selected[(mapp_regret_selected['l1_weight']== l1_weight)&\n",
    "                        (mapp_regret_selected['lr']== lr)&(mapp_regret_selected['growth']== growth)]\n",
    "mapp_regret_selected = mapp_regret_selected [['model','instance','regret']]"
   ]
  },
  {
   "cell_type": "code",
   "execution_count": 271,
   "metadata": {},
   "outputs": [
    {
     "data": {
      "text/html": [
       "<div>\n",
       "<style scoped>\n",
       "    .dataframe tbody tr th:only-of-type {\n",
       "        vertical-align: middle;\n",
       "    }\n",
       "\n",
       "    .dataframe tbody tr th {\n",
       "        vertical-align: top;\n",
       "    }\n",
       "\n",
       "    .dataframe thead tr th {\n",
       "        text-align: left;\n",
       "    }\n",
       "\n",
       "    .dataframe thead tr:last-of-type th {\n",
       "        text-align: right;\n",
       "    }\n",
       "</style>\n",
       "<table border=\"1\" class=\"dataframe\">\n",
       "  <thead>\n",
       "    <tr>\n",
       "      <th></th>\n",
       "      <th colspan=\"3\" halign=\"left\">regret</th>\n",
       "    </tr>\n",
       "    <tr>\n",
       "      <th></th>\n",
       "      <th>mean</th>\n",
       "      <th>std</th>\n",
       "      <th>count</th>\n",
       "    </tr>\n",
       "    <tr>\n",
       "      <th>model</th>\n",
       "      <th></th>\n",
       "      <th></th>\n",
       "      <th></th>\n",
       "    </tr>\n",
       "  </thead>\n",
       "  <tbody>\n",
       "    <tr>\n",
       "      <th>Blackbox</th>\n",
       "      <td>0.1876</td>\n",
       "      <td>0.0803</td>\n",
       "      <td>10000</td>\n",
       "    </tr>\n",
       "    <tr>\n",
       "      <th>Listwise</th>\n",
       "      <td>0.1556</td>\n",
       "      <td>0.1083</td>\n",
       "      <td>10000</td>\n",
       "    </tr>\n",
       "    <tr>\n",
       "      <th>MAP</th>\n",
       "      <td>0.1968</td>\n",
       "      <td>0.0804</td>\n",
       "      <td>10000</td>\n",
       "    </tr>\n",
       "    <tr>\n",
       "      <th>NCE</th>\n",
       "      <td>0.2363</td>\n",
       "      <td>0.0846</td>\n",
       "      <td>10000</td>\n",
       "    </tr>\n",
       "    <tr>\n",
       "      <th>Pairwise</th>\n",
       "      <td>0.1636</td>\n",
       "      <td>0.1100</td>\n",
       "      <td>10000</td>\n",
       "    </tr>\n",
       "    <tr>\n",
       "      <th>Pairwise_diff</th>\n",
       "      <td>0.1600</td>\n",
       "      <td>0.1056</td>\n",
       "      <td>10000</td>\n",
       "    </tr>\n",
       "    <tr>\n",
       "      <th>Pointwise</th>\n",
       "      <td>0.1548</td>\n",
       "      <td>0.1014</td>\n",
       "      <td>10000</td>\n",
       "    </tr>\n",
       "    <tr>\n",
       "      <th>SPO</th>\n",
       "      <td>0.1551</td>\n",
       "      <td>0.1026</td>\n",
       "      <td>10000</td>\n",
       "    </tr>\n",
       "    <tr>\n",
       "      <th>Twostage</th>\n",
       "      <td>0.1545</td>\n",
       "      <td>0.1021</td>\n",
       "      <td>10000</td>\n",
       "    </tr>\n",
       "  </tbody>\n",
       "</table>\n",
       "</div>"
      ],
      "text/plain": [
       "               regret               \n",
       "                 mean     std  count\n",
       "model                               \n",
       "Blackbox       0.1876  0.0803  10000\n",
       "Listwise       0.1556  0.1083  10000\n",
       "MAP            0.1968  0.0804  10000\n",
       "NCE            0.2363  0.0846  10000\n",
       "Pairwise       0.1636  0.1100  10000\n",
       "Pairwise_diff  0.1600  0.1056  10000\n",
       "Pointwise      0.1548  0.1014  10000\n",
       "SPO            0.1551  0.1026  10000\n",
       "Twostage       0.1545  0.1021  10000"
      ]
     },
     "execution_count": 271,
     "metadata": {},
     "output_type": "execute_result"
    }
   ],
   "source": [
    "plot_df = pd.concat([pointwise_regret_selected,pairwise_diff_regret_selected, \n",
    "                     pairwise_regret_selected, listwise_regret_selected, nce_regret_selected, mapp_regret_selected,\n",
    "                     spo_regret_selected,bb_regret_selected, twostage_regret_selected],\n",
    "                   ignore_index= True)\n",
    "plot_df.groupby(\"model\").agg({\"regret\":['mean','std','count']}).round(4)"
   ]
  },
  {
   "cell_type": "code",
   "execution_count": 272,
   "metadata": {},
   "outputs": [
    {
     "data": {
      "image/png": "[encoded data removed]",
      "text/plain": [
       "<Figure size 864x864 with 1 Axes>"
      ]
     },
     "metadata": {
      "needs_background": "light"
     },
     "output_type": "display_data"
    }
   ],
   "source": [
    "fig, ax = plt.subplots(figsize=(12,12))\n",
    "# plt.figure(figsize=(12,12))\n",
    "sns.boxplot(x=\"model\", y=\"regret\", data = plot_df)\n",
    "plt.xlabel('Model', fontsize = 22)\n",
    "plt.ylabel('Test Regret(%)', fontsize = 22)\n",
    "plt.xticks(fontsize=13)\n",
    "plt.ylim(-0.05,0.5)\n",
    "vals = ax.get_yticks()\n",
    "ax.set_yticklabels(['{:,.2%}'.format(x) for x in vals])\n",
    "plt.savefig(\"figures/Boxplot_data_N_{}_noise_{}_deg_{}.jpg\".format(N,noise,deg))"
   ]
  },
  {
   "cell_type": "code",
   "execution_count": 256,
   "metadata": {},
   "outputs": [],
   "source": [
    "N, noise, deg = 1000,0.5,2"
   ]
  },
  {
   "cell_type": "code",
   "execution_count": 257,
   "metadata": {},
   "outputs": [],
   "source": [
    "lr, l1_weight = 0.5, 1e-5\n",
    "twostage_regret = pd.read_csv(\"Rslt/Twostage_Regret.csv\")\n",
    "twostage_regret.drop_duplicates(inplace= True)\n",
    "twostage_regret = twostage_regret.groupby(['model','instance','lr', 'l1_weight', 'noise','deg','N']).mean().reset_index()\n",
    "twostage_regret_selected = twostage_regret[(twostage_regret['N']==N)&\n",
    "                                           (twostage_regret['deg']==deg) & \n",
    "                                           (twostage_regret['noise']==noise)]\n",
    "twostage_regret_selected = twostage_regret_selected[(twostage_regret_selected['l1_weight']==l1_weight)&\n",
    "                                                   (twostage_regret_selected['lr']==lr)]\n",
    "twostage_regret_selected = twostage_regret_selected [['model','instance','regret']]"
   ]
  },
  {
   "cell_type": "code",
   "execution_count": 258,
   "metadata": {},
   "outputs": [],
   "source": [
    "lr, l1_weight = 0.5, 1e-5\n",
    "spo_regret = pd.read_csv(\"Rslt/SPO_Regret.csv\")\n",
    "spo_regret.drop_duplicates(inplace= True)\n",
    "spo_regret = spo_regret.groupby(['model','instance','lr','l1_weight', 'noise','deg','N']).mean().reset_index()\n",
    "spo_regret_selected = spo_regret[(spo_regret['N']==N)&\n",
    "                                           (spo_regret['deg']==deg) & \n",
    "                                           (spo_regret['noise']==noise)]\n",
    "spo_regret_selected = spo_regret_selected[(spo_regret_selected['l1_weight']==l1_weight)&\n",
    "                                         (spo_regret_selected['lr']==lr)]\n",
    "spo_regret_selected = spo_regret_selected [['model','instance','regret']]"
   ]
  },
  {
   "cell_type": "code",
   "execution_count": 259,
   "metadata": {},
   "outputs": [],
   "source": [
    "lr,mu, l1_weight = 0.5,1., 1e-5\n",
    "bb_regret = pd.read_csv(\"Rslt/Blackbox_Regret.csv\")\n",
    "bb_regret.drop_duplicates(inplace= True)\n",
    "bb_regret = bb_regret.groupby(['model','instance','mu','lr','l1_weight', 'noise','deg','N']).mean().reset_index()\n",
    "bb_regret_selected = bb_regret[(bb_regret['N']==N)&\n",
    "                                           (bb_regret['deg']==deg) & \n",
    "                                           (bb_regret['noise']==noise)]\n",
    "bb_regret_selected = bb_regret_selected[(bb_regret_selected['l1_weight']==l1_weight)&\n",
    "                                         (bb_regret_selected['lr']==lr)&(bb_regret_selected['mu']==mu)]\n",
    "bb_regret_selected = bb_regret_selected [['model','instance','regret']]"
   ]
  },
  {
   "cell_type": "code",
   "execution_count": 260,
   "metadata": {},
   "outputs": [],
   "source": [
    "lr, margin, growth,l1_weight = 0.1,0.1,0.1,1e-5\n",
    "pairwise_regret = pd.read_csv(\"Rslt/Pairwise_Regret.csv\")\n",
    "pairwise_regret.drop_duplicates(inplace= True)\n",
    "pairwise_regret = pairwise_regret.groupby(['model','instance','lr','l1_weight','margin', 'growth','noise','deg','N']).mean().reset_index()\n",
    "pairwise_regret_selected = pairwise_regret[(pairwise_regret['N']==N)&\n",
    "                                           (pairwise_regret['deg']==deg) & \n",
    "                                           (pairwise_regret['noise']==noise)]\n",
    "pairwise_regret_selected = pairwise_regret_selected[(pairwise_regret_selected['l1_weight']== l1_weight)&\n",
    "                                       (pairwise_regret_selected['margin']== margin)& (pairwise_regret_selected['lr']== lr)&\n",
    "                                                   (pairwise_regret_selected['growth']== growth)]\n",
    "pairwise_regret_selected = pairwise_regret_selected [['model','instance','regret']]"
   ]
  },
  {
   "cell_type": "code",
   "execution_count": 261,
   "metadata": {},
   "outputs": [],
   "source": [
    "lr,temperature,  growth,l1_weight = 0.1,0.1, 0.1,1e-5\n",
    "listwise_regret = pd.read_csv(\"Rslt/Listwise_Regret.csv\")\n",
    "listwise_regret.drop_duplicates(inplace= True)\n",
    "listwise_regret = listwise_regret.groupby(['model','instance','lr','l1_weight','temperature', 'growth','noise','deg','N']).mean().reset_index()\n",
    "listwise_regret_selected = listwise_regret[(listwise_regret['N']==N)&\n",
    "                                           (listwise_regret['deg']==deg) & \n",
    "                                           (listwise_regret['noise']==noise)]\n",
    "listwise_regret_selected = listwise_regret_selected[(listwise_regret_selected['l1_weight']== l1_weight)&\n",
    "                        (listwise_regret_selected['lr']== lr)&(listwise_regret_selected['temperature']== temperature)&\n",
    "                                                   (listwise_regret_selected['growth']== growth)]\n",
    "listwise_regret_selected = listwise_regret_selected [['model','instance','regret']]"
   ]
  },
  {
   "cell_type": "code",
   "execution_count": 262,
   "metadata": {},
   "outputs": [],
   "source": [
    "lr, growth,l1_weight = 0.8, 0.1,1e-5\n",
    "pointwise_regret = pd.read_csv(\"Rslt/Pointwise_Regret.csv\")\n",
    "pointwise_regret.drop_duplicates(inplace= True)\n",
    "pointwise_regret = pointwise_regret.groupby(['model','instance','lr','l1_weight', 'growth','noise','deg','N']).mean().reset_index()\n",
    "pointwise_regret_selected = pointwise_regret[(pointwise_regret['N']==N)&\n",
    "                                           (pointwise_regret['deg']==deg) & \n",
    "                                           (pointwise_regret['noise']==noise)]\n",
    "pointwise_regret_selected = pointwise_regret_selected[(pointwise_regret_selected['l1_weight']== l1_weight)&\n",
    "                        (pointwise_regret_selected['lr']== lr)&(pointwise_regret_selected['growth']== growth)]\n",
    "pointwise_regret_selected = pointwise_regret_selected [['model','instance','regret']]"
   ]
  },
  {
   "cell_type": "code",
   "execution_count": 263,
   "metadata": {},
   "outputs": [],
   "source": [
    "lr, growth,l1_weight = 0.1, 0.1,1e-5\n",
    "pairwise_diff_regret = pd.read_csv(\"Rslt/Pairwisediff_Regret.csv\")\n",
    "pairwise_diff_regret.drop_duplicates(inplace= True)\n",
    "pairwise_diff_regret = pairwise_diff_regret.groupby(['model','instance','lr','l1_weight', 'growth','noise','deg','N']).mean().reset_index()\n",
    "pairwise_diff_regret_selected = pairwise_diff_regret[(pairwise_diff_regret['N']==N)&\n",
    "                                           (pairwise_diff_regret['deg']==deg) & \n",
    "                                           (pairwise_diff_regret['noise']==noise)]\n",
    "pairwise_diff_regret_selected = pairwise_diff_regret_selected[(pairwise_diff_regret_selected['l1_weight']== l1_weight)&\n",
    "                        (pairwise_diff_regret_selected['lr']== lr)&(pairwise_diff_regret_selected['growth']== growth)]\n",
    "pairwise_diff_regret_selected = pairwise_diff_regret_selected [['model','instance','regret']]"
   ]
  },
  {
   "cell_type": "code",
   "execution_count": 264,
   "metadata": {},
   "outputs": [],
   "source": [
    "lr, growth,l1_weight = 0.5, 0.1,1e-5\n",
    "nce_regret = pd.read_csv(\"Rslt/NCE_Regret.csv\")\n",
    "nce_regret.model = \"NCE\"\n",
    "nce_regret.drop_duplicates(inplace= True)\n",
    "nce_regret = nce_regret.groupby(['model','instance','lr','l1_weight', 'growth','noise','deg','N']).mean().reset_index()\n",
    "nce_regret_selected = nce_regret[(nce_regret['N']==N)&\n",
    "                                           (nce_regret['deg']==deg) & \n",
    "                                           (nce_regret['noise']==noise)]\n",
    "nce_regret_selected = nce_regret_selected[(nce_regret_selected['l1_weight']== l1_weight)&\n",
    "                        (nce_regret_selected['lr']== lr)&(nce_regret_selected['growth']== growth)]\n",
    "nce_regret_selected = nce_regret_selected [['model','instance','regret']]"
   ]
  },
  {
   "cell_type": "code",
   "execution_count": 265,
   "metadata": {},
   "outputs": [],
   "source": [
    "lr, growth,l1_weight = 0.05, 0.1,1e-5\n",
    "mapp_regret = pd.read_csv(\"Rslt/MAP_Regret.csv\")\n",
    "mapp_regret.model = \"MAP\"\n",
    "mapp_regret.drop_duplicates(inplace= True)\n",
    "mapp_regret = mapp_regret.groupby(['model','instance','lr','l1_weight', 'growth','noise','deg','N']).mean().reset_index()\n",
    "mapp_regret_selected = mapp_regret[(mapp_regret['N']==N)&\n",
    "                                           (mapp_regret['deg']==deg) & \n",
    "                                           (mapp_regret['noise']==noise)]\n",
    "mapp_regret_selected = mapp_regret_selected[(mapp_regret_selected['l1_weight']== l1_weight)&\n",
    "                        (mapp_regret_selected['lr']== lr)&(mapp_regret_selected['growth']== growth)]\n",
    "mapp_regret_selected = mapp_regret_selected [['model','instance','regret']]"
   ]
  },
  {
   "cell_type": "code",
   "execution_count": 266,
   "metadata": {},
   "outputs": [
    {
     "data": {
      "text/html": [
       "<div>\n",
       "<style scoped>\n",
       "    .dataframe tbody tr th:only-of-type {\n",
       "        vertical-align: middle;\n",
       "    }\n",
       "\n",
       "    .dataframe tbody tr th {\n",
       "        vertical-align: top;\n",
       "    }\n",
       "\n",
       "    .dataframe thead tr th {\n",
       "        text-align: left;\n",
       "    }\n",
       "\n",
       "    .dataframe thead tr:last-of-type th {\n",
       "        text-align: right;\n",
       "    }\n",
       "</style>\n",
       "<table border=\"1\" class=\"dataframe\">\n",
       "  <thead>\n",
       "    <tr>\n",
       "      <th></th>\n",
       "      <th colspan=\"3\" halign=\"left\">regret</th>\n",
       "    </tr>\n",
       "    <tr>\n",
       "      <th></th>\n",
       "      <th>mean</th>\n",
       "      <th>std</th>\n",
       "      <th>count</th>\n",
       "    </tr>\n",
       "    <tr>\n",
       "      <th>model</th>\n",
       "      <th></th>\n",
       "      <th></th>\n",
       "      <th></th>\n",
       "    </tr>\n",
       "  </thead>\n",
       "  <tbody>\n",
       "    <tr>\n",
       "      <th>Blackbox</th>\n",
       "      <td>0.1326</td>\n",
       "      <td>0.0770</td>\n",
       "      <td>10000</td>\n",
       "    </tr>\n",
       "    <tr>\n",
       "      <th>Listwise</th>\n",
       "      <td>0.1041</td>\n",
       "      <td>0.0934</td>\n",
       "      <td>10000</td>\n",
       "    </tr>\n",
       "    <tr>\n",
       "      <th>MAP</th>\n",
       "      <td>0.1415</td>\n",
       "      <td>0.0785</td>\n",
       "      <td>10000</td>\n",
       "    </tr>\n",
       "    <tr>\n",
       "      <th>NCE</th>\n",
       "      <td>0.3084</td>\n",
       "      <td>0.1401</td>\n",
       "      <td>10000</td>\n",
       "    </tr>\n",
       "    <tr>\n",
       "      <th>Pairwise</th>\n",
       "      <td>0.1074</td>\n",
       "      <td>0.0929</td>\n",
       "      <td>10000</td>\n",
       "    </tr>\n",
       "    <tr>\n",
       "      <th>Pairwise_diff</th>\n",
       "      <td>0.1160</td>\n",
       "      <td>0.1027</td>\n",
       "      <td>10000</td>\n",
       "    </tr>\n",
       "    <tr>\n",
       "      <th>Pointwise</th>\n",
       "      <td>0.1006</td>\n",
       "      <td>0.0944</td>\n",
       "      <td>10000</td>\n",
       "    </tr>\n",
       "    <tr>\n",
       "      <th>SPO</th>\n",
       "      <td>0.1006</td>\n",
       "      <td>0.0950</td>\n",
       "      <td>10000</td>\n",
       "    </tr>\n",
       "    <tr>\n",
       "      <th>Twostage</th>\n",
       "      <td>0.1007</td>\n",
       "      <td>0.0928</td>\n",
       "      <td>10000</td>\n",
       "    </tr>\n",
       "  </tbody>\n",
       "</table>\n",
       "</div>"
      ],
      "text/plain": [
       "               regret               \n",
       "                 mean     std  count\n",
       "model                               \n",
       "Blackbox       0.1326  0.0770  10000\n",
       "Listwise       0.1041  0.0934  10000\n",
       "MAP            0.1415  0.0785  10000\n",
       "NCE            0.3084  0.1401  10000\n",
       "Pairwise       0.1074  0.0929  10000\n",
       "Pairwise_diff  0.1160  0.1027  10000\n",
       "Pointwise      0.1006  0.0944  10000\n",
       "SPO            0.1006  0.0950  10000\n",
       "Twostage       0.1007  0.0928  10000"
      ]
     },
     "execution_count": 266,
     "metadata": {},
     "output_type": "execute_result"
    }
   ],
   "source": [
    "plot_df = pd.concat([pointwise_regret_selected,pairwise_diff_regret_selected, \n",
    "                     pairwise_regret_selected, listwise_regret_selected, nce_regret_selected, mapp_regret_selected,\n",
    "                     spo_regret_selected,bb_regret_selected, twostage_regret_selected],\n",
    "                   ignore_index= True)\n",
    "plot_df.groupby(\"model\").agg({\"regret\":['mean','std','count']}).round(4)"
   ]
  },
  {
   "cell_type": "code",
   "execution_count": 267,
   "metadata": {},
   "outputs": [
    {
     "data": {
      "image/png": "[encoded data removed]",
      "text/plain": [
       "<Figure size 864x864 with 1 Axes>"
      ]
     },
     "metadata": {
      "needs_background": "light"
     },
     "output_type": "display_data"
    }
   ],
   "source": [
    "fig, ax = plt.subplots(figsize=(12,12))\n",
    "# plt.figure(figsize=(12,12))\n",
    "sns.boxplot(x=\"model\", y=\"regret\", data = plot_df)\n",
    "plt.xlabel('Model', fontsize = 22)\n",
    "plt.ylabel('Test Regret(%)', fontsize = 22)\n",
    "plt.xticks(fontsize=13)\n",
    "plt.ylim(-0.05,0.5)\n",
    "vals = ax.get_yticks()\n",
    "ax.set_yticklabels(['{:,.2%}'.format(x) for x in vals])\n",
    "plt.savefig(\"figures/Boxplot_data_N_{}_noise_{}_deg_{}.jpg\".format(N,noise,deg))"
   ]
  },
  {
   "cell_type": "code",
   "execution_count": 268,
   "metadata": {},
   "outputs": [],
   "source": [
    "N, noise, deg = 1000,0.5,4"
   ]
  },
  {
   "cell_type": "code",
   "execution_count": 269,
   "metadata": {},
   "outputs": [],
   "source": [
    "lr, l1_weight = 0.1, 1e-5\n",
    "twostage_regret = pd.read_csv(\"Rslt/Twostage_Regret.csv\")\n",
    "twostage_regret.drop_duplicates(inplace= True)\n",
    "twostage_regret = twostage_regret.groupby(['model','instance','lr', 'l1_weight', 'noise','deg','N']).mean().reset_index()\n",
    "twostage_regret_selected = twostage_regret[(twostage_regret['N']==N)&\n",
    "                                           (twostage_regret['deg']==deg) & \n",
    "                                           (twostage_regret['noise']==noise)]\n",
    "twostage_regret_selected = twostage_regret_selected[(twostage_regret_selected['l1_weight']==l1_weight)&\n",
    "                                                   (twostage_regret_selected['lr']==lr)]\n",
    "twostage_regret_selected = twostage_regret_selected [['model','instance','regret']]"
   ]
  },
  {
   "cell_type": "code",
   "execution_count": 270,
   "metadata": {},
   "outputs": [],
   "source": [
    "lr, l1_weight = 0.5, 1e-5\n",
    "spo_regret = pd.read_csv(\"Rslt/SPO_Regret.csv\")\n",
    "spo_regret.drop_duplicates(inplace= True)\n",
    "spo_regret = spo_regret.groupby(['model','instance','lr','l1_weight', 'noise','deg','N']).mean().reset_index()\n",
    "spo_regret_selected = spo_regret[(spo_regret['N']==N)&\n",
    "                                           (spo_regret['deg']==deg) & \n",
    "                                           (spo_regret['noise']==noise)]\n",
    "spo_regret_selected = spo_regret_selected[(spo_regret_selected['l1_weight']==l1_weight)&\n",
    "                                         (spo_regret_selected['lr']==lr)]\n",
    "spo_regret_selected = spo_regret_selected [['model','instance','regret']]"
   ]
  },
  {
   "cell_type": "code",
   "execution_count": 271,
   "metadata": {},
   "outputs": [],
   "source": [
    "lr,mu, l1_weight = 0.5,1., 1e-5\n",
    "bb_regret = pd.read_csv(\"Rslt/Blackbox_Regret.csv\")\n",
    "bb_regret.drop_duplicates(inplace= True)\n",
    "bb_regret = bb_regret.groupby(['model','instance','mu','lr','l1_weight', 'noise','deg','N']).mean().reset_index()\n",
    "bb_regret_selected = bb_regret[(bb_regret['N']==N)&\n",
    "                                           (bb_regret['deg']==deg) & \n",
    "                                           (bb_regret['noise']==noise)]\n",
    "bb_regret_selected = bb_regret_selected[(bb_regret_selected['l1_weight']==l1_weight)&\n",
    "                                         (bb_regret_selected['lr']==lr)&(bb_regret_selected['mu']==mu)]\n",
    "bb_regret_selected = bb_regret_selected [['model','instance','regret']]"
   ]
  },
  {
   "cell_type": "code",
   "execution_count": 272,
   "metadata": {},
   "outputs": [],
   "source": [
    "lr, margin, growth,l1_weight = 0.1,0.1,0.1,1e-5\n",
    "pairwise_regret = pd.read_csv(\"Rslt/Pairwise_Regret.csv\")\n",
    "pairwise_regret.drop_duplicates(inplace= True)\n",
    "pairwise_regret = pairwise_regret.groupby(['model','instance','lr','l1_weight','margin', 'growth','noise','deg','N']).mean().reset_index()\n",
    "pairwise_regret_selected = pairwise_regret[(pairwise_regret['N']==N)&\n",
    "                                           (pairwise_regret['deg']==deg) & \n",
    "                                           (pairwise_regret['noise']==noise)]\n",
    "pairwise_regret_selected = pairwise_regret_selected[(pairwise_regret_selected['l1_weight']== l1_weight)&\n",
    "                                       (pairwise_regret_selected['margin']== margin)& (pairwise_regret_selected['lr']== lr)&\n",
    "                                                   (pairwise_regret_selected['growth']== growth)]\n",
    "pairwise_regret_selected = pairwise_regret_selected [['model','instance','regret']]"
   ]
  },
  {
   "cell_type": "code",
   "execution_count": 273,
   "metadata": {},
   "outputs": [],
   "source": [
    "lr,temperature,  growth,l1_weight = 0.1,0.05, 0.1,1e-5\n",
    "listwise_regret = pd.read_csv(\"Rslt/Listwise_Regret.csv\")\n",
    "listwise_regret.drop_duplicates(inplace= True)\n",
    "listwise_regret = listwise_regret.groupby(['model','instance','lr','l1_weight','temperature', 'growth','noise','deg','N']).mean().reset_index()\n",
    "listwise_regret_selected = listwise_regret[(listwise_regret['N']==N)&\n",
    "                                           (listwise_regret['deg']==deg) & \n",
    "                                           (listwise_regret['noise']==noise)]\n",
    "listwise_regret_selected = listwise_regret_selected[(listwise_regret_selected['l1_weight']== l1_weight)&\n",
    "                        (listwise_regret_selected['lr']== lr)&(listwise_regret_selected['temperature']== temperature)&\n",
    "                                                   (listwise_regret_selected['growth']== growth)]\n",
    "listwise_regret_selected = listwise_regret_selected [['model','instance','regret']]"
   ]
  },
  {
   "cell_type": "code",
   "execution_count": 274,
   "metadata": {},
   "outputs": [],
   "source": [
    "lr, growth,l1_weight = 0.8, 0.1,1e-5\n",
    "pointwise_regret = pd.read_csv(\"Rslt/Pointwise_Regret.csv\")\n",
    "pointwise_regret.drop_duplicates(inplace= True)\n",
    "pointwise_regret = pointwise_regret.groupby(['model','instance','lr','l1_weight', 'growth','noise','deg','N']).mean().reset_index()\n",
    "pointwise_regret_selected = pointwise_regret[(pointwise_regret['N']==N)&\n",
    "                                           (pointwise_regret['deg']==deg) & \n",
    "                                           (pointwise_regret['noise']==noise)]\n",
    "pointwise_regret_selected = pointwise_regret_selected[(pointwise_regret_selected['l1_weight']== l1_weight)&\n",
    "                        (pointwise_regret_selected['lr']== lr)&(pointwise_regret_selected['growth']== growth)]\n",
    "pointwise_regret_selected = pointwise_regret_selected [['model','instance','regret']]"
   ]
  },
  {
   "cell_type": "code",
   "execution_count": 275,
   "metadata": {},
   "outputs": [],
   "source": [
    "lr, growth,l1_weight = 0.1, 0.1,1e-5\n",
    "pairwise_diff_regret = pd.read_csv(\"Rslt/Pairwisediff_Regret.csv\")\n",
    "pairwise_diff_regret.drop_duplicates(inplace= True)\n",
    "pairwise_diff_regret = pairwise_diff_regret.groupby(['model','instance','lr','l1_weight', 'growth','noise','deg','N']).mean().reset_index()\n",
    "pairwise_diff_regret_selected = pairwise_diff_regret[(pairwise_diff_regret['N']==N)&\n",
    "                                           (pairwise_diff_regret['deg']==deg) & \n",
    "                                           (pairwise_diff_regret['noise']==noise)]\n",
    "pairwise_diff_regret_selected = pairwise_diff_regret_selected[(pairwise_diff_regret_selected['l1_weight']== l1_weight)&\n",
    "                        (pairwise_diff_regret_selected['lr']== lr)&(pairwise_diff_regret_selected['growth']== growth)]\n",
    "pairwise_diff_regret_selected = pairwise_diff_regret_selected [['model','instance','regret']]"
   ]
  },
  {
   "cell_type": "code",
   "execution_count": 276,
   "metadata": {},
   "outputs": [],
   "source": [
    "lr, growth,l1_weight = 0.5, 0.1,1e-5\n",
    "nce_regret = pd.read_csv(\"Rslt/NCE_Regret.csv\")\n",
    "nce_regret.model = \"NCE\"\n",
    "nce_regret.drop_duplicates(inplace= True)\n",
    "nce_regret = nce_regret.groupby(['model','instance','lr','l1_weight', 'growth','noise','deg','N']).mean().reset_index()\n",
    "nce_regret_selected = nce_regret[(nce_regret['N']==N)&\n",
    "                                           (nce_regret['deg']==deg) & \n",
    "                                           (nce_regret['noise']==noise)]\n",
    "nce_regret_selected = nce_regret_selected[(nce_regret_selected['l1_weight']== l1_weight)&\n",
    "                        (nce_regret_selected['lr']== lr)&(nce_regret_selected['growth']== growth)]\n",
    "nce_regret_selected = nce_regret_selected [['model','instance','regret']]"
   ]
  },
  {
   "cell_type": "code",
   "execution_count": 277,
   "metadata": {},
   "outputs": [],
   "source": [
    "lr, growth,l1_weight = 0.05, 0.1,1e-5\n",
    "mapp_regret = pd.read_csv(\"Rslt/MAP_Regret.csv\")\n",
    "mapp_regret.model = \"MAP\"\n",
    "mapp_regret.drop_duplicates(inplace= True)\n",
    "mapp_regret = mapp_regret.groupby(['model','instance','lr','l1_weight', 'growth','noise','deg','N']).mean().reset_index()\n",
    "mapp_regret_selected = mapp_regret[(mapp_regret['N']==N)&\n",
    "                                           (mapp_regret['deg']==deg) & \n",
    "                                           (mapp_regret['noise']==noise)]\n",
    "mapp_regret_selected = mapp_regret_selected[(mapp_regret_selected['l1_weight']== l1_weight)&\n",
    "                        (mapp_regret_selected['lr']== lr)&(mapp_regret_selected['growth']== growth)]\n",
    "mapp_regret_selected = mapp_regret_selected [['model','instance','regret']]"
   ]
  },
  {
   "cell_type": "code",
   "execution_count": 278,
   "metadata": {},
   "outputs": [
    {
     "data": {
      "text/html": [
       "<div>\n",
       "<style scoped>\n",
       "    .dataframe tbody tr th:only-of-type {\n",
       "        vertical-align: middle;\n",
       "    }\n",
       "\n",
       "    .dataframe tbody tr th {\n",
       "        vertical-align: top;\n",
       "    }\n",
       "\n",
       "    .dataframe thead tr th {\n",
       "        text-align: left;\n",
       "    }\n",
       "\n",
       "    .dataframe thead tr:last-of-type th {\n",
       "        text-align: right;\n",
       "    }\n",
       "</style>\n",
       "<table border=\"1\" class=\"dataframe\">\n",
       "  <thead>\n",
       "    <tr>\n",
       "      <th></th>\n",
       "      <th colspan=\"3\" halign=\"left\">regret</th>\n",
       "    </tr>\n",
       "    <tr>\n",
       "      <th></th>\n",
       "      <th>mean</th>\n",
       "      <th>std</th>\n",
       "      <th>count</th>\n",
       "    </tr>\n",
       "    <tr>\n",
       "      <th>model</th>\n",
       "      <th></th>\n",
       "      <th></th>\n",
       "      <th></th>\n",
       "    </tr>\n",
       "  </thead>\n",
       "  <tbody>\n",
       "    <tr>\n",
       "      <th>Blackbox</th>\n",
       "      <td>0.0939</td>\n",
       "      <td>0.0963</td>\n",
       "      <td>10000</td>\n",
       "    </tr>\n",
       "    <tr>\n",
       "      <th>Listwise</th>\n",
       "      <td>0.0771</td>\n",
       "      <td>0.0996</td>\n",
       "      <td>10000</td>\n",
       "    </tr>\n",
       "    <tr>\n",
       "      <th>MAP</th>\n",
       "      <td>0.0944</td>\n",
       "      <td>0.0983</td>\n",
       "      <td>10000</td>\n",
       "    </tr>\n",
       "    <tr>\n",
       "      <th>NCE</th>\n",
       "      <td>0.6520</td>\n",
       "      <td>0.4730</td>\n",
       "      <td>10000</td>\n",
       "    </tr>\n",
       "    <tr>\n",
       "      <th>Pairwise</th>\n",
       "      <td>0.0806</td>\n",
       "      <td>0.1187</td>\n",
       "      <td>10000</td>\n",
       "    </tr>\n",
       "    <tr>\n",
       "      <th>Pairwise_diff</th>\n",
       "      <td>0.1789</td>\n",
       "      <td>0.1932</td>\n",
       "      <td>10000</td>\n",
       "    </tr>\n",
       "    <tr>\n",
       "      <th>Pointwise</th>\n",
       "      <td>0.1927</td>\n",
       "      <td>0.2626</td>\n",
       "      <td>10000</td>\n",
       "    </tr>\n",
       "    <tr>\n",
       "      <th>SPO</th>\n",
       "      <td>0.0798</td>\n",
       "      <td>0.1194</td>\n",
       "      <td>10000</td>\n",
       "    </tr>\n",
       "    <tr>\n",
       "      <th>Twostage</th>\n",
       "      <td>0.1044</td>\n",
       "      <td>0.1284</td>\n",
       "      <td>10000</td>\n",
       "    </tr>\n",
       "  </tbody>\n",
       "</table>\n",
       "</div>"
      ],
      "text/plain": [
       "               regret               \n",
       "                 mean     std  count\n",
       "model                               \n",
       "Blackbox       0.0939  0.0963  10000\n",
       "Listwise       0.0771  0.0996  10000\n",
       "MAP            0.0944  0.0983  10000\n",
       "NCE            0.6520  0.4730  10000\n",
       "Pairwise       0.0806  0.1187  10000\n",
       "Pairwise_diff  0.1789  0.1932  10000\n",
       "Pointwise      0.1927  0.2626  10000\n",
       "SPO            0.0798  0.1194  10000\n",
       "Twostage       0.1044  0.1284  10000"
      ]
     },
     "execution_count": 278,
     "metadata": {},
     "output_type": "execute_result"
    }
   ],
   "source": [
    "plot_df = pd.concat([pointwise_regret_selected,pairwise_diff_regret_selected, \n",
    "                     pairwise_regret_selected, listwise_regret_selected, nce_regret_selected, mapp_regret_selected,\n",
    "                     spo_regret_selected,bb_regret_selected, twostage_regret_selected],\n",
    "                   ignore_index= True)\n",
    "plot_df.groupby(\"model\").agg({\"regret\":['mean','std','count']}).round(4)"
   ]
  },
  {
   "cell_type": "code",
   "execution_count": 279,
   "metadata": {},
   "outputs": [
    {
     "data": {
      "image/png": "[encoded data removed]",
      "text/plain": [
       "<Figure size 864x864 with 1 Axes>"
      ]
     },
     "metadata": {
      "needs_background": "light"
     },
     "output_type": "display_data"
    }
   ],
   "source": [
    "fig, ax = plt.subplots(figsize=(12,12))\n",
    "# plt.figure(figsize=(12,12))\n",
    "sns.boxplot(x=\"model\", y=\"regret\", data = plot_df)\n",
    "plt.xlabel('Model', fontsize = 22)\n",
    "plt.ylabel('Test Regret(%)', fontsize = 22)\n",
    "plt.xticks(fontsize=13)\n",
    "plt.ylim(-0.05,0.5)\n",
    "vals = ax.get_yticks()\n",
    "ax.set_yticklabels(['{:,.2%}'.format(x) for x in vals])\n",
    "plt.savefig(\"figures/Boxplot_data_N_{}_noise_{}_deg_{}.jpg\".format(N,noise,deg))"
   ]
  },
  {
   "cell_type": "code",
   "execution_count": 273,
   "metadata": {},
   "outputs": [],
   "source": [
    "N, noise, deg = 1000,0.5,6"
   ]
  },
  {
   "cell_type": "code",
   "execution_count": 274,
   "metadata": {},
   "outputs": [],
   "source": [
    "lr, l1_weight = 0.5, 1e-5\n",
    "twostage_regret = pd.read_csv(\"Rslt/Twostage_Regret.csv\")\n",
    "twostage_regret.drop_duplicates(inplace= True)\n",
    "twostage_regret = twostage_regret.groupby(['model','instance','lr', 'l1_weight', 'noise','deg','N']).mean().reset_index()\n",
    "twostage_regret_selected = twostage_regret[(twostage_regret['N']==N)&\n",
    "                                           (twostage_regret['deg']==deg) & \n",
    "                                           (twostage_regret['noise']==noise)]\n",
    "twostage_regret_selected = twostage_regret_selected[(twostage_regret_selected['l1_weight']==l1_weight)&\n",
    "                                                   (twostage_regret_selected['lr']==lr)]\n",
    "twostage_regret_selected = twostage_regret_selected [['model','instance','regret']]"
   ]
  },
  {
   "cell_type": "code",
   "execution_count": 275,
   "metadata": {},
   "outputs": [],
   "source": [
    "lr, l1_weight = 0.5, 1e-5\n",
    "spo_regret = pd.read_csv(\"Rslt/SPO_Regret.csv\")\n",
    "spo_regret.drop_duplicates(inplace= True)\n",
    "spo_regret = spo_regret.groupby(['model','instance','lr','l1_weight', 'noise','deg','N']).mean().reset_index()\n",
    "spo_regret_selected = spo_regret[(spo_regret['N']==N)&\n",
    "                                           (spo_regret['deg']==deg) & \n",
    "                                           (spo_regret['noise']==noise)]\n",
    "spo_regret_selected = spo_regret_selected[(spo_regret_selected['l1_weight']==l1_weight)&\n",
    "                                         (spo_regret_selected['lr']==lr)]\n",
    "spo_regret_selected = spo_regret_selected [['model','instance','regret']]"
   ]
  },
  {
   "cell_type": "code",
   "execution_count": 276,
   "metadata": {},
   "outputs": [],
   "source": [
    "lr,mu, l1_weight = 0.5,1., 1e-5\n",
    "bb_regret = pd.read_csv(\"Rslt/Blackbox_Regret.csv\")\n",
    "bb_regret.drop_duplicates(inplace= True)\n",
    "bb_regret = bb_regret.groupby(['model','instance','mu','lr','l1_weight', 'noise','deg','N']).mean().reset_index()\n",
    "bb_regret_selected = bb_regret[(bb_regret['N']==N)&\n",
    "                                           (bb_regret['deg']==deg) & \n",
    "                                           (bb_regret['noise']==noise)]\n",
    "bb_regret_selected = bb_regret_selected[(bb_regret_selected['l1_weight']==l1_weight)&\n",
    "                                         (bb_regret_selected['lr']==lr)&(bb_regret_selected['mu']==mu)]\n",
    "bb_regret_selected = bb_regret_selected [['model','instance','regret']]"
   ]
  },
  {
   "cell_type": "code",
   "execution_count": 277,
   "metadata": {},
   "outputs": [],
   "source": [
    "lr, margin, growth,l1_weight = 0.1,0.1,0.1,1e-5\n",
    "pairwise_regret = pd.read_csv(\"Rslt/Pairwise_Regret.csv\")\n",
    "pairwise_regret.drop_duplicates(inplace= True)\n",
    "pairwise_regret = pairwise_regret.groupby(['model','instance','lr','l1_weight','margin', 'growth','noise','deg','N']).mean().reset_index()\n",
    "pairwise_regret_selected = pairwise_regret[(pairwise_regret['N']==N)&\n",
    "                                           (pairwise_regret['deg']==deg) & \n",
    "                                           (pairwise_regret['noise']==noise)]\n",
    "pairwise_regret_selected = pairwise_regret_selected[(pairwise_regret_selected['l1_weight']== l1_weight)&\n",
    "                                       (pairwise_regret_selected['margin']== margin)& (pairwise_regret_selected['lr']== lr)&\n",
    "                                                   (pairwise_regret_selected['growth']== growth)]\n",
    "pairwise_regret_selected = pairwise_regret_selected [['model','instance','regret']]"
   ]
  },
  {
   "cell_type": "code",
   "execution_count": 278,
   "metadata": {},
   "outputs": [],
   "source": [
    "lr,temperature,  growth,l1_weight = 0.1,0.05,0.1,1e-5\n",
    "listwise_regret = pd.read_csv(\"Rslt/Listwise_Regret.csv\")\n",
    "listwise_regret.drop_duplicates(inplace= True)\n",
    "listwise_regret = listwise_regret.groupby(['model','instance','lr','l1_weight','temperature', 'growth','noise','deg','N']).mean().reset_index()\n",
    "listwise_regret_selected = listwise_regret[(listwise_regret['N']==N)&\n",
    "                                           (listwise_regret['deg']==deg) & \n",
    "                                           (listwise_regret['noise']==noise)]\n",
    "listwise_regret_selected = listwise_regret_selected[(listwise_regret_selected['l1_weight']== l1_weight)&\n",
    "                        (listwise_regret_selected['lr']== lr)&(listwise_regret_selected['temperature']== temperature)&\n",
    "                                                   (listwise_regret_selected['growth']== growth)]\n",
    "listwise_regret_selected = listwise_regret_selected [['model','instance','regret']]"
   ]
  },
  {
   "cell_type": "code",
   "execution_count": 279,
   "metadata": {},
   "outputs": [],
   "source": [
    "lr, growth,l1_weight = 0.8, 0.1,1e-5\n",
    "pointwise_regret = pd.read_csv(\"Rslt/Pointwise_Regret.csv\")\n",
    "pointwise_regret.drop_duplicates(inplace= True)\n",
    "pointwise_regret = pointwise_regret.groupby(['model','instance','lr','l1_weight', 'growth','noise','deg','N']).mean().reset_index()\n",
    "pointwise_regret_selected = pointwise_regret[(pointwise_regret['N']==N)&\n",
    "                                           (pointwise_regret['deg']==deg) & \n",
    "                                           (pointwise_regret['noise']==noise)]\n",
    "pointwise_regret_selected = pointwise_regret_selected[(pointwise_regret_selected['l1_weight']== l1_weight)&\n",
    "                        (pointwise_regret_selected['lr']== lr)&(pointwise_regret_selected['growth']== growth)]\n",
    "pointwise_regret_selected = pointwise_regret_selected [['model','instance','regret']]"
   ]
  },
  {
   "cell_type": "code",
   "execution_count": 280,
   "metadata": {},
   "outputs": [],
   "source": [
    "lr, growth,l1_weight = 0.5, 0.1,1e-5\n",
    "pairwise_diff_regret = pd.read_csv(\"Rslt/Pairwisediff_Regret.csv\")\n",
    "pairwise_diff_regret.drop_duplicates(inplace= True)\n",
    "pairwise_diff_regret = pairwise_diff_regret.groupby(['model','instance','lr','l1_weight', 'growth','noise','deg','N']).mean().reset_index()\n",
    "pairwise_diff_regret_selected = pairwise_diff_regret[(pairwise_diff_regret['N']==N)&\n",
    "                                           (pairwise_diff_regret['deg']==deg) & \n",
    "                                           (pairwise_diff_regret['noise']==noise)]\n",
    "pairwise_diff_regret_selected = pairwise_diff_regret_selected[(pairwise_diff_regret_selected['l1_weight']== l1_weight)&\n",
    "                        (pairwise_diff_regret_selected['lr']== lr)&(pairwise_diff_regret_selected['growth']== growth)]\n",
    "pairwise_diff_regret_selected = pairwise_diff_regret_selected [['model','instance','regret']]"
   ]
  },
  {
   "cell_type": "code",
   "execution_count": 281,
   "metadata": {},
   "outputs": [],
   "source": [
    "lr, growth,l1_weight = 0.5, 0.1,1e-5\n",
    "nce_regret = pd.read_csv(\"Rslt/NCE_Regret.csv\")\n",
    "nce_regret.model = \"NCE\"\n",
    "nce_regret.drop_duplicates(inplace= True)\n",
    "nce_regret = nce_regret.groupby(['model','instance','lr','l1_weight', 'growth','noise','deg','N']).mean().reset_index()\n",
    "nce_regret_selected = nce_regret[(nce_regret['N']==N)&\n",
    "                                           (nce_regret['deg']==deg) & \n",
    "                                           (nce_regret['noise']==noise)]\n",
    "nce_regret_selected = nce_regret_selected[(nce_regret_selected['l1_weight']== l1_weight)&\n",
    "                        (nce_regret_selected['lr']== lr)&(nce_regret_selected['growth']== growth)]\n",
    "nce_regret_selected = nce_regret_selected [['model','instance','regret']]"
   ]
  },
  {
   "cell_type": "code",
   "execution_count": 282,
   "metadata": {},
   "outputs": [],
   "source": [
    "lr, growth,l1_weight = 0.7, 0.1,1e-5\n",
    "mapp_regret = pd.read_csv(\"Rslt/MAP_Regret.csv\")\n",
    "mapp_regret.model = \"MAP\"\n",
    "mapp_regret.drop_duplicates(inplace= True)\n",
    "mapp_regret = mapp_regret.groupby(['model','instance','lr','l1_weight', 'growth','noise','deg','N']).mean().reset_index()\n",
    "mapp_regret_selected = mapp_regret[(mapp_regret['N']==N)&\n",
    "                                           (mapp_regret['deg']==deg) & \n",
    "                                           (mapp_regret['noise']==noise)]\n",
    "mapp_regret_selected = mapp_regret_selected[(mapp_regret_selected['l1_weight']== l1_weight)&\n",
    "                        (mapp_regret_selected['lr']== lr)&(mapp_regret_selected['growth']== growth)]\n",
    "mapp_regret_selected = mapp_regret_selected [['model','instance','regret']]"
   ]
  },
  {
   "cell_type": "code",
   "execution_count": 283,
   "metadata": {},
   "outputs": [
    {
     "data": {
      "text/html": [
       "<div>\n",
       "<style scoped>\n",
       "    .dataframe tbody tr th:only-of-type {\n",
       "        vertical-align: middle;\n",
       "    }\n",
       "\n",
       "    .dataframe tbody tr th {\n",
       "        vertical-align: top;\n",
       "    }\n",
       "\n",
       "    .dataframe thead tr th {\n",
       "        text-align: left;\n",
       "    }\n",
       "\n",
       "    .dataframe thead tr:last-of-type th {\n",
       "        text-align: right;\n",
       "    }\n",
       "</style>\n",
       "<table border=\"1\" class=\"dataframe\">\n",
       "  <thead>\n",
       "    <tr>\n",
       "      <th></th>\n",
       "      <th colspan=\"3\" halign=\"left\">regret</th>\n",
       "    </tr>\n",
       "    <tr>\n",
       "      <th></th>\n",
       "      <th>mean</th>\n",
       "      <th>std</th>\n",
       "      <th>count</th>\n",
       "    </tr>\n",
       "    <tr>\n",
       "      <th>model</th>\n",
       "      <th></th>\n",
       "      <th></th>\n",
       "      <th></th>\n",
       "    </tr>\n",
       "  </thead>\n",
       "  <tbody>\n",
       "    <tr>\n",
       "      <th>Blackbox</th>\n",
       "      <td>0.0969</td>\n",
       "      <td>0.1767</td>\n",
       "      <td>10000</td>\n",
       "    </tr>\n",
       "    <tr>\n",
       "      <th>Listwise</th>\n",
       "      <td>0.0829</td>\n",
       "      <td>0.1828</td>\n",
       "      <td>10000</td>\n",
       "    </tr>\n",
       "    <tr>\n",
       "      <th>MAP</th>\n",
       "      <td>0.0945</td>\n",
       "      <td>0.1644</td>\n",
       "      <td>10000</td>\n",
       "    </tr>\n",
       "    <tr>\n",
       "      <th>NCE</th>\n",
       "      <td>1.2942</td>\n",
       "      <td>1.9368</td>\n",
       "      <td>10000</td>\n",
       "    </tr>\n",
       "    <tr>\n",
       "      <th>Pairwise</th>\n",
       "      <td>0.0927</td>\n",
       "      <td>0.2052</td>\n",
       "      <td>10000</td>\n",
       "    </tr>\n",
       "    <tr>\n",
       "      <th>Pairwise_diff</th>\n",
       "      <td>0.3265</td>\n",
       "      <td>0.4412</td>\n",
       "      <td>10000</td>\n",
       "    </tr>\n",
       "    <tr>\n",
       "      <th>Pointwise</th>\n",
       "      <td>0.7218</td>\n",
       "      <td>1.7089</td>\n",
       "      <td>10000</td>\n",
       "    </tr>\n",
       "    <tr>\n",
       "      <th>SPO</th>\n",
       "      <td>0.1619</td>\n",
       "      <td>0.3137</td>\n",
       "      <td>10000</td>\n",
       "    </tr>\n",
       "    <tr>\n",
       "      <th>Twostage</th>\n",
       "      <td>0.1596</td>\n",
       "      <td>0.3221</td>\n",
       "      <td>10000</td>\n",
       "    </tr>\n",
       "  </tbody>\n",
       "</table>\n",
       "</div>"
      ],
      "text/plain": [
       "               regret               \n",
       "                 mean     std  count\n",
       "model                               \n",
       "Blackbox       0.0969  0.1767  10000\n",
       "Listwise       0.0829  0.1828  10000\n",
       "MAP            0.0945  0.1644  10000\n",
       "NCE            1.2942  1.9368  10000\n",
       "Pairwise       0.0927  0.2052  10000\n",
       "Pairwise_diff  0.3265  0.4412  10000\n",
       "Pointwise      0.7218  1.7089  10000\n",
       "SPO            0.1619  0.3137  10000\n",
       "Twostage       0.1596  0.3221  10000"
      ]
     },
     "execution_count": 283,
     "metadata": {},
     "output_type": "execute_result"
    }
   ],
   "source": [
    "plot_df = pd.concat([pointwise_regret_selected,pairwise_diff_regret_selected, \n",
    "                     pairwise_regret_selected, listwise_regret_selected, nce_regret_selected, mapp_regret_selected,\n",
    "                     spo_regret_selected,bb_regret_selected, twostage_regret_selected],\n",
    "                   ignore_index= True)\n",
    "plot_df.groupby(\"model\").agg({\"regret\":['mean','std','count']}).round(4)"
   ]
  },
  {
   "cell_type": "code",
   "execution_count": 315,
   "metadata": {},
   "outputs": [
    {
     "data": {
      "image/png": "[encoded data removed]",
      "text/plain": [
       "<Figure size 864x864 with 1 Axes>"
      ]
     },
     "metadata": {
      "needs_background": "light"
     },
     "output_type": "display_data"
    }
   ],
   "source": [
    "fig, ax = plt.subplots(figsize=(12,12))\n",
    "# plt.figure(figsize=(12,12))\n",
    "sns.boxplot(x=\"model\", y=\"regret\", data = plot_df)\n",
    "plt.xlabel('Model', fontsize = 22)\n",
    "plt.ylabel('Test Regret(%)', fontsize = 22)\n",
    "plt.xticks(fontsize=13)\n",
    "plt.ylim(-0.05,1.)\n",
    "vals = ax.get_yticks()\n",
    "ax.set_yticklabels(['{:,.2%}'.format(x) for x in vals])\n",
    "plt.savefig(\"figures/Boxplot_data_N_{}_noise_{}_deg_{}.jpg\".format(N,noise,deg))"
   ]
  },
  {
   "cell_type": "code",
   "execution_count": 292,
   "metadata": {},
   "outputs": [],
   "source": [
    "N, noise, deg = 1000,0.5,8"
   ]
  },
  {
   "cell_type": "code",
   "execution_count": 293,
   "metadata": {},
   "outputs": [],
   "source": [
    "lr, l1_weight = 0.5, 1e-5\n",
    "twostage_regret = pd.read_csv(\"Rslt/Twostage_Regret.csv\")\n",
    "twostage_regret.drop_duplicates(inplace= True)\n",
    "twostage_regret = twostage_regret.groupby(['model','instance','lr', 'l1_weight', 'noise','deg','N']).mean().reset_index()\n",
    "twostage_regret_selected = twostage_regret[(twostage_regret['N']==N)&\n",
    "                                           (twostage_regret['deg']==deg) & \n",
    "                                           (twostage_regret['noise']==noise)]\n",
    "twostage_regret_selected = twostage_regret_selected[(twostage_regret_selected['l1_weight']==l1_weight)&\n",
    "                                                   (twostage_regret_selected['lr']==lr)]\n",
    "twostage_regret_selected = twostage_regret_selected [['model','instance','regret']]"
   ]
  },
  {
   "cell_type": "code",
   "execution_count": 294,
   "metadata": {},
   "outputs": [],
   "source": [
    "lr, l1_weight = 0.1, 1e-5\n",
    "spo_regret = pd.read_csv(\"Rslt/SPO_Regret.csv\")\n",
    "spo_regret.drop_duplicates(inplace= True)\n",
    "spo_regret = spo_regret.groupby(['model','instance','lr','l1_weight', 'noise','deg','N']).mean().reset_index()\n",
    "spo_regret_selected = spo_regret[(spo_regret['N']==N)&\n",
    "                                           (spo_regret['deg']==deg) & \n",
    "                                           (spo_regret['noise']==noise)]\n",
    "spo_regret_selected = spo_regret_selected[(spo_regret_selected['l1_weight']==l1_weight)&\n",
    "                                         (spo_regret_selected['lr']==lr)]\n",
    "spo_regret_selected = spo_regret_selected [['model','instance','regret']]"
   ]
  },
  {
   "cell_type": "code",
   "execution_count": 295,
   "metadata": {},
   "outputs": [],
   "source": [
    "lr,mu, l1_weight = 0.5,1., 1e-5\n",
    "bb_regret = pd.read_csv(\"Rslt/Blackbox_Regret.csv\")\n",
    "bb_regret.drop_duplicates(inplace= True)\n",
    "bb_regret = bb_regret.groupby(['model','instance','mu','lr','l1_weight', 'noise','deg','N']).mean().reset_index()\n",
    "bb_regret_selected = bb_regret[(bb_regret['N']==N)&\n",
    "                                           (bb_regret['deg']==deg) & \n",
    "                                           (bb_regret['noise']==noise)]\n",
    "bb_regret_selected = bb_regret_selected[(bb_regret_selected['l1_weight']==l1_weight)&\n",
    "                                         (bb_regret_selected['lr']==lr)&(bb_regret_selected['mu']==mu)]\n",
    "bb_regret_selected = bb_regret_selected [['model','instance','regret']]"
   ]
  },
  {
   "cell_type": "code",
   "execution_count": 296,
   "metadata": {},
   "outputs": [],
   "source": [
    "lr, margin, growth,l1_weight = 0.1,0.1,0.1,1e-5\n",
    "pairwise_regret = pd.read_csv(\"Rslt/Pairwise_Regret.csv\")\n",
    "pairwise_regret.drop_duplicates(inplace= True)\n",
    "pairwise_regret = pairwise_regret.groupby(['model','instance','lr','l1_weight','margin', 'growth','noise','deg','N']).mean().reset_index()\n",
    "pairwise_regret_selected = pairwise_regret[(pairwise_regret['N']==N)&\n",
    "                                           (pairwise_regret['deg']==deg) & \n",
    "                                           (pairwise_regret['noise']==noise)]\n",
    "pairwise_regret_selected = pairwise_regret_selected[(pairwise_regret_selected['l1_weight']== l1_weight)&\n",
    "                                       (pairwise_regret_selected['margin']== margin)& (pairwise_regret_selected['lr']== lr)&\n",
    "                                                   (pairwise_regret_selected['growth']== growth)]\n",
    "pairwise_regret_selected = pairwise_regret_selected [['model','instance','regret']]"
   ]
  },
  {
   "cell_type": "code",
   "execution_count": 297,
   "metadata": {},
   "outputs": [],
   "source": [
    "lr,temperature,  growth,l1_weight = 0.1,0.05,0.1,1e-5\n",
    "listwise_regret = pd.read_csv(\"Rslt/Listwise_Regret.csv\")\n",
    "listwise_regret.drop_duplicates(inplace= True)\n",
    "listwise_regret = listwise_regret.groupby(['model','instance','lr','l1_weight','temperature', 'growth','noise','deg','N']).mean().reset_index()\n",
    "listwise_regret_selected = listwise_regret[(listwise_regret['N']==N)&\n",
    "                                           (listwise_regret['deg']==deg) & \n",
    "                                           (listwise_regret['noise']==noise)]\n",
    "listwise_regret_selected = listwise_regret_selected[(listwise_regret_selected['l1_weight']== l1_weight)&\n",
    "                        (listwise_regret_selected['lr']== lr)&(listwise_regret_selected['temperature']== temperature)&\n",
    "                                                   (listwise_regret_selected['growth']== growth)]\n",
    "listwise_regret_selected = listwise_regret_selected [['model','instance','regret']]"
   ]
  },
  {
   "cell_type": "code",
   "execution_count": 298,
   "metadata": {},
   "outputs": [],
   "source": [
    "lr, growth,l1_weight = 0.8, 0.1,1e-5\n",
    "pointwise_regret = pd.read_csv(\"Rslt/Pointwise_Regret.csv\")\n",
    "pointwise_regret.drop_duplicates(inplace= True)\n",
    "pointwise_regret = pointwise_regret.groupby(['model','instance','lr','l1_weight', 'growth','noise','deg','N']).mean().reset_index()\n",
    "pointwise_regret_selected = pointwise_regret[(pointwise_regret['N']==N)&\n",
    "                                           (pointwise_regret['deg']==deg) & \n",
    "                                           (pointwise_regret['noise']==noise)]\n",
    "pointwise_regret_selected = pointwise_regret_selected[(pointwise_regret_selected['l1_weight']== l1_weight)&\n",
    "                        (pointwise_regret_selected['lr']== lr)&(pointwise_regret_selected['growth']== growth)]\n",
    "pointwise_regret_selected = pointwise_regret_selected [['model','instance','regret']]"
   ]
  },
  {
   "cell_type": "code",
   "execution_count": 299,
   "metadata": {},
   "outputs": [],
   "source": [
    "lr, growth,l1_weight = 0.5, 0.1,1e-5\n",
    "pairwise_diff_regret = pd.read_csv(\"Rslt/Pairwisediff_Regret.csv\")\n",
    "pairwise_diff_regret.drop_duplicates(inplace= True)\n",
    "pairwise_diff_regret = pairwise_diff_regret.groupby(['model','instance','lr','l1_weight', 'growth','noise','deg','N']).mean().reset_index()\n",
    "pairwise_diff_regret_selected = pairwise_diff_regret[(pairwise_diff_regret['N']==N)&\n",
    "                                           (pairwise_diff_regret['deg']==deg) & \n",
    "                                           (pairwise_diff_regret['noise']==noise)]\n",
    "pairwise_diff_regret_selected = pairwise_diff_regret_selected[(pairwise_diff_regret_selected['l1_weight']== l1_weight)&\n",
    "                        (pairwise_diff_regret_selected['lr']== lr)&(pairwise_diff_regret_selected['growth']== growth)]\n",
    "pairwise_diff_regret_selected = pairwise_diff_regret_selected [['model','instance','regret']]"
   ]
  },
  {
   "cell_type": "code",
   "execution_count": 300,
   "metadata": {},
   "outputs": [],
   "source": [
    "lr, growth,l1_weight = 0.5, 0.1,1e-5\n",
    "nce_regret = pd.read_csv(\"Rslt/NCE_Regret.csv\")\n",
    "nce_regret.model = \"NCE\"\n",
    "nce_regret.drop_duplicates(inplace= True)\n",
    "nce_regret = nce_regret.groupby(['model','instance','lr','l1_weight', 'growth','noise','deg','N']).mean().reset_index()\n",
    "nce_regret_selected = nce_regret[(nce_regret['N']==N)&\n",
    "                                           (nce_regret['deg']==deg) & \n",
    "                                           (nce_regret['noise']==noise)]\n",
    "nce_regret_selected = nce_regret_selected[(nce_regret_selected['l1_weight']== l1_weight)&\n",
    "                        (nce_regret_selected['lr']== lr)&(nce_regret_selected['growth']== growth)]\n",
    "nce_regret_selected = nce_regret_selected [['model','instance','regret']]"
   ]
  },
  {
   "cell_type": "code",
   "execution_count": 301,
   "metadata": {},
   "outputs": [],
   "source": [
    "lr, growth,l1_weight = 0.7, 0.1,1e-5\n",
    "mapp_regret = pd.read_csv(\"Rslt/MAP_Regret.csv\")\n",
    "mapp_regret.model = \"MAP\"\n",
    "mapp_regret.drop_duplicates(inplace= True)\n",
    "mapp_regret = mapp_regret.groupby(['model','instance','lr','l1_weight', 'growth','noise','deg','N']).mean().reset_index()\n",
    "mapp_regret_selected = mapp_regret[(mapp_regret['N']==N)&\n",
    "                                           (mapp_regret['deg']==deg) & \n",
    "                                           (mapp_regret['noise']==noise)]\n",
    "mapp_regret_selected = mapp_regret_selected[(mapp_regret_selected['l1_weight']== l1_weight)&\n",
    "                        (mapp_regret_selected['lr']== lr)&(mapp_regret_selected['growth']== growth)]\n",
    "mapp_regret_selected = mapp_regret_selected [['model','instance','regret']]"
   ]
  },
  {
   "cell_type": "code",
   "execution_count": 302,
   "metadata": {},
   "outputs": [
    {
     "data": {
      "text/html": [
       "<div>\n",
       "<style scoped>\n",
       "    .dataframe tbody tr th:only-of-type {\n",
       "        vertical-align: middle;\n",
       "    }\n",
       "\n",
       "    .dataframe tbody tr th {\n",
       "        vertical-align: top;\n",
       "    }\n",
       "\n",
       "    .dataframe thead tr th {\n",
       "        text-align: left;\n",
       "    }\n",
       "\n",
       "    .dataframe thead tr:last-of-type th {\n",
       "        text-align: right;\n",
       "    }\n",
       "</style>\n",
       "<table border=\"1\" class=\"dataframe\">\n",
       "  <thead>\n",
       "    <tr>\n",
       "      <th></th>\n",
       "      <th colspan=\"3\" halign=\"left\">regret</th>\n",
       "    </tr>\n",
       "    <tr>\n",
       "      <th></th>\n",
       "      <th>mean</th>\n",
       "      <th>std</th>\n",
       "      <th>count</th>\n",
       "    </tr>\n",
       "    <tr>\n",
       "      <th>model</th>\n",
       "      <th></th>\n",
       "      <th></th>\n",
       "      <th></th>\n",
       "    </tr>\n",
       "  </thead>\n",
       "  <tbody>\n",
       "    <tr>\n",
       "      <th>Blackbox</th>\n",
       "      <td>0.1414</td>\n",
       "      <td>0.7197</td>\n",
       "      <td>10000</td>\n",
       "    </tr>\n",
       "    <tr>\n",
       "      <th>Listwise</th>\n",
       "      <td>0.1238</td>\n",
       "      <td>0.5326</td>\n",
       "      <td>10000</td>\n",
       "    </tr>\n",
       "    <tr>\n",
       "      <th>MAP</th>\n",
       "      <td>0.1368</td>\n",
       "      <td>0.5269</td>\n",
       "      <td>10000</td>\n",
       "    </tr>\n",
       "    <tr>\n",
       "      <th>NCE</th>\n",
       "      <td>2.4229</td>\n",
       "      <td>5.9411</td>\n",
       "      <td>10000</td>\n",
       "    </tr>\n",
       "    <tr>\n",
       "      <th>Pairwise</th>\n",
       "      <td>0.1275</td>\n",
       "      <td>0.4064</td>\n",
       "      <td>10000</td>\n",
       "    </tr>\n",
       "    <tr>\n",
       "      <th>Pairwise_diff</th>\n",
       "      <td>0.6180</td>\n",
       "      <td>1.0038</td>\n",
       "      <td>10000</td>\n",
       "    </tr>\n",
       "    <tr>\n",
       "      <th>Pointwise</th>\n",
       "      <td>1.7876</td>\n",
       "      <td>7.5870</td>\n",
       "      <td>10000</td>\n",
       "    </tr>\n",
       "    <tr>\n",
       "      <th>SPO</th>\n",
       "      <td>0.3375</td>\n",
       "      <td>0.7384</td>\n",
       "      <td>10000</td>\n",
       "    </tr>\n",
       "    <tr>\n",
       "      <th>Twostage</th>\n",
       "      <td>0.2850</td>\n",
       "      <td>0.7760</td>\n",
       "      <td>10000</td>\n",
       "    </tr>\n",
       "  </tbody>\n",
       "</table>\n",
       "</div>"
      ],
      "text/plain": [
       "               regret               \n",
       "                 mean     std  count\n",
       "model                               \n",
       "Blackbox       0.1414  0.7197  10000\n",
       "Listwise       0.1238  0.5326  10000\n",
       "MAP            0.1368  0.5269  10000\n",
       "NCE            2.4229  5.9411  10000\n",
       "Pairwise       0.1275  0.4064  10000\n",
       "Pairwise_diff  0.6180  1.0038  10000\n",
       "Pointwise      1.7876  7.5870  10000\n",
       "SPO            0.3375  0.7384  10000\n",
       "Twostage       0.2850  0.7760  10000"
      ]
     },
     "execution_count": 302,
     "metadata": {},
     "output_type": "execute_result"
    }
   ],
   "source": [
    "plot_df = pd.concat([pointwise_regret_selected,pairwise_diff_regret_selected, \n",
    "                     pairwise_regret_selected, listwise_regret_selected, nce_regret_selected, mapp_regret_selected,\n",
    "                     spo_regret_selected,bb_regret_selected, twostage_regret_selected],\n",
    "                   ignore_index= True)\n",
    "plot_df.groupby(\"model\").agg({\"regret\":['mean','std','count']}).round(4)"
   ]
  },
  {
   "cell_type": "code",
   "execution_count": 303,
   "metadata": {},
   "outputs": [
    {
     "data": {
      "image/png": "[encoded data removed]",
      "text/plain": [
       "<Figure size 864x864 with 1 Axes>"
      ]
     },
     "metadata": {
      "needs_background": "light"
     },
     "output_type": "display_data"
    }
   ],
   "source": [
    "fig, ax = plt.subplots(figsize=(12,12))\n",
    "# plt.figure(figsize=(12,12))\n",
    "sns.boxplot(x=\"model\", y=\"regret\", data = plot_df)\n",
    "plt.xlabel('Model', fontsize = 18)\n",
    "plt.ylabel('Test Regret(%)', fontsize = 18)\n",
    "plt.xticks(fontsize=13)\n",
    "plt.ylim(-0.05,1.5)\n",
    "vals = ax.get_yticks()\n",
    "ax.set_yticklabels(['{:,.2%}'.format(x) for x in vals])\n",
    "plt.savefig(\"figures/Boxplot_data_N_{}_noise_{}_deg_{}.jpg\".format(N,noise,deg))"
   ]
  },
  {
   "cell_type": "markdown",
   "metadata": {},
   "source": [
    "### Learning Curve Plot"
   ]
  },
  {
   "cell_type": "code",
   "execution_count": 245,
   "metadata": {},
   "outputs": [],
   "source": [
    "N, noise, deg,growth = 1000,0.5,1,0.1"
   ]
  },
  {
   "cell_type": "code",
   "execution_count": 246,
   "metadata": {},
   "outputs": [],
   "source": [
    "df_pointwise = pd.read_csv(\"LearningCurve/Pointwise_data_data_N_{}_noise_{}_deg_{}_growth{}.csv\".format(N,noise,deg,growth))\n",
    "df_pairwisediff = pd.read_csv(\"LearningCurve/Pairwise_diff_data_N_{}_noise_{}_deg_{}_growth{}.csv\".format(N,noise,deg,growth))\n",
    "\n",
    "df_pairwise = pd.read_csv(\"LearningCurve/Pairwise_data_N_{}_noise_{}_deg_{}_growth{}.csv\".format(N,noise,deg,growth))\n",
    "df_listwise = pd.read_csv(\"LearningCurve/Listwise_data_N_{}_noise_{}_deg_{}_growth{}.csv\".format(N,noise,deg,growth))"
   ]
  },
  {
   "cell_type": "code",
   "execution_count": 247,
   "metadata": {},
   "outputs": [],
   "source": [
    "plot_df = pd.concat([df_pointwise, df_pairwise,df_pairwisediff, df_listwise  ],ignore_index=True)\n",
    "plot_df= plot_df[plot_df.step<240]"
   ]
  },
  {
   "cell_type": "code",
   "execution_count": 248,
   "metadata": {},
   "outputs": [
    {
     "data": {
      "image/png": "[encoded data removed]",
      "text/plain": [
       "<Figure size 432x432 with 1 Axes>"
      ]
     },
     "metadata": {
      "needs_background": "light"
     },
     "output_type": "display_data"
    }
   ],
   "source": [
    "fig, ax = plt.subplots(figsize=(6,6))\n",
    "sns.lineplot(data= plot_df, x=\"step\", y=\"val_regret\", hue=\"model\",style='model',ci=None)\n",
    "plt.xlabel('Steps', fontsize = 15)\n",
    "plt.ylabel('', fontsize = 15)\n",
    "plt.xticks(fontsize=15)\n",
    "# plt.xlim(0, 750)\n",
    "vals = ax.get_yticks()\n",
    "ax.set_yticklabels(['{:,.2%}'.format(x) for x in vals])\n",
    "plt.legend( prop={'size': 15})\n",
    "plt.savefig(\"figures/LC_data_N_{}_noise_{}_deg_{}.jpg\".format(N,noise,deg))"
   ]
  },
  {
   "cell_type": "code",
   "execution_count": 232,
   "metadata": {},
   "outputs": [
    {
     "ename": "NameError",
     "evalue": "name 'df_twostage' is not defined",
     "output_type": "error",
     "traceback": [
      "\u001b[0;31m---------------------------------------------------------------------------\u001b[0m",
      "\u001b[0;31mNameError\u001b[0m                                 Traceback (most recent call last)",
      "\u001b[0;32m<ipython-input-232-dd3ee3d76547>\u001b[0m in \u001b[0;36m<module>\u001b[0;34m\u001b[0m\n\u001b[0;32m----> 1\u001b[0;31m \u001b[0mdf_twostage\u001b[0m\u001b[0;34m.\u001b[0m\u001b[0mstep\u001b[0m\u001b[0;34m.\u001b[0m\u001b[0mdescribe\u001b[0m\u001b[0;34m(\u001b[0m\u001b[0;34m)\u001b[0m\u001b[0;34m\u001b[0m\u001b[0;34m\u001b[0m\u001b[0m\n\u001b[0m",
      "\u001b[0;31mNameError\u001b[0m: name 'df_twostage' is not defined"
     ]
    }
   ],
   "source": [
    "df_twostage.step.describe()"
   ]
  },
  {
   "cell_type": "code",
   "execution_count": null,
   "metadata": {},
   "outputs": [],
   "source": []
  }
 ],
 "metadata": {
  "kernelspec": {
   "display_name": "Python 3",
   "language": "python",
   "name": "python3"
  },
  "language_info": {
   "codemirror_mode": {
    "name": "ipython",
    "version": 3
   },
   "file_extension": ".py",
   "mimetype": "text/x-python",
   "name": "python",
   "nbconvert_exporter": "python",
   "pygments_lexer": "ipython3",
   "version": "3.7.3"
  }
 },
 "nbformat": 4,
 "nbformat_minor": 2
}
